{
 "cells": [
  {
   "cell_type": "markdown",
   "metadata": {},
   "source": [
    "# The Best Landsat 8 Images"
   ]
  },
  {
   "cell_type": "code",
   "execution_count": 3,
   "metadata": {},
   "outputs": [],
   "source": [
    "import pandas\n",
    "pandas.set_option('display.max_colwidth', -1)\n",
    "\n",
    "# Show matplot stuff inline\n",
    "%matplotlib inline\n",
    "\n",
    "PATH_ROWS = [\n",
    "    [114, 55]\n",
    "]\n",
    "\n",
    "LANDSAT_SCENE_LIST = 'LANDSAT_8_C1.csv'\n",
    "COLUMNS = [\"sceneID\", \"LANDSAT_PRODUCT_ID\", \"acquisitionDate\", \"cloudCover\", \"cartURL\", \"browseURL\"]"
   ]
  },
  {
   "cell_type": "markdown",
   "metadata": {},
   "source": [
    "### Read Scenes File"
   ]
  },
  {
   "cell_type": "code",
   "execution_count": 4,
   "metadata": {},
   "outputs": [
    {
     "data": {
      "text/html": [
       "<div>\n",
       "<style>\n",
       "    .dataframe thead tr:only-child th {\n",
       "        text-align: right;\n",
       "    }\n",
       "\n",
       "    .dataframe thead th {\n",
       "        text-align: left;\n",
       "    }\n",
       "\n",
       "    .dataframe tbody tr th {\n",
       "        vertical-align: top;\n",
       "    }\n",
       "</style>\n",
       "<table border=\"1\" class=\"dataframe\">\n",
       "  <thead>\n",
       "    <tr style=\"text-align: right;\">\n",
       "      <th></th>\n",
       "      <th>browseAvailable</th>\n",
       "      <th>browseURL</th>\n",
       "      <th>sceneID</th>\n",
       "      <th>LANDSAT_PRODUCT_ID</th>\n",
       "      <th>sensor</th>\n",
       "      <th>acquisitionDate</th>\n",
       "      <th>dateUpdated</th>\n",
       "      <th>path</th>\n",
       "      <th>row</th>\n",
       "      <th>upperLeftCornerLatitude</th>\n",
       "      <th>...</th>\n",
       "      <th>GRID_CELL_SIZE_PANCHROMATIC</th>\n",
       "      <th>GRID_CELL_SIZE_THERMAL</th>\n",
       "      <th>ORIENTATION</th>\n",
       "      <th>PANCHROMATIC_LINES</th>\n",
       "      <th>PANCHROMATIC_SAMPLES</th>\n",
       "      <th>REFLECTIVE_LINES</th>\n",
       "      <th>REFLECTIVE_SAMPLES</th>\n",
       "      <th>RESAMPLING_OPTION</th>\n",
       "      <th>THERMAL_LINES</th>\n",
       "      <th>THERMAL_SAMPLES</th>\n",
       "    </tr>\n",
       "  </thead>\n",
       "  <tbody>\n",
       "    <tr>\n",
       "      <th>0</th>\n",
       "      <td>Y</td>\n",
       "      <td>https://earthexplorer.usgs.gov/browse/landsat_8/2017/186/063/LC08_L1GT_186063_20171124_20171124_01_RT.jpg</td>\n",
       "      <td>LC81860632017328LGN00</td>\n",
       "      <td>LC08_L1GT_186063_20171124_20171124_01_RT</td>\n",
       "      <td>OLI_TIRS</td>\n",
       "      <td>2017-11-24</td>\n",
       "      <td>2017-11-24</td>\n",
       "      <td>186</td>\n",
       "      <td>63</td>\n",
       "      <td>-3.29353</td>\n",
       "      <td>...</td>\n",
       "      <td>15</td>\n",
       "      <td>30</td>\n",
       "      <td>NORTH_UP</td>\n",
       "      <td>15481</td>\n",
       "      <td>15181</td>\n",
       "      <td>7741</td>\n",
       "      <td>7591</td>\n",
       "      <td>CUBIC_CONVOLUTION</td>\n",
       "      <td>7741</td>\n",
       "      <td>7591</td>\n",
       "    </tr>\n",
       "    <tr>\n",
       "      <th>1</th>\n",
       "      <td>Y</td>\n",
       "      <td>https://earthexplorer.usgs.gov/browse/landsat_8/2017/186/062/LC08_L1TP_186062_20171124_20171124_01_RT.jpg</td>\n",
       "      <td>LC81860622017328LGN00</td>\n",
       "      <td>LC08_L1TP_186062_20171124_20171124_01_RT</td>\n",
       "      <td>OLI_TIRS</td>\n",
       "      <td>2017-11-24</td>\n",
       "      <td>2017-11-24</td>\n",
       "      <td>186</td>\n",
       "      <td>62</td>\n",
       "      <td>-1.84725</td>\n",
       "      <td>...</td>\n",
       "      <td>15</td>\n",
       "      <td>30</td>\n",
       "      <td>NORTH_UP</td>\n",
       "      <td>15481</td>\n",
       "      <td>15181</td>\n",
       "      <td>7741</td>\n",
       "      <td>7591</td>\n",
       "      <td>CUBIC_CONVOLUTION</td>\n",
       "      <td>7741</td>\n",
       "      <td>7591</td>\n",
       "    </tr>\n",
       "    <tr>\n",
       "      <th>2</th>\n",
       "      <td>Y</td>\n",
       "      <td>https://earthexplorer.usgs.gov/browse/landsat_8/2017/186/061/LC08_L1GT_186061_20171124_20171124_01_RT.jpg</td>\n",
       "      <td>LC81860612017328LGN00</td>\n",
       "      <td>LC08_L1GT_186061_20171124_20171124_01_RT</td>\n",
       "      <td>OLI_TIRS</td>\n",
       "      <td>2017-11-24</td>\n",
       "      <td>2017-11-24</td>\n",
       "      <td>186</td>\n",
       "      <td>61</td>\n",
       "      <td>-0.40135</td>\n",
       "      <td>...</td>\n",
       "      <td>15</td>\n",
       "      <td>30</td>\n",
       "      <td>NORTH_UP</td>\n",
       "      <td>15481</td>\n",
       "      <td>15181</td>\n",
       "      <td>7741</td>\n",
       "      <td>7591</td>\n",
       "      <td>CUBIC_CONVOLUTION</td>\n",
       "      <td>7741</td>\n",
       "      <td>7591</td>\n",
       "    </tr>\n",
       "    <tr>\n",
       "      <th>3</th>\n",
       "      <td>Y</td>\n",
       "      <td>https://earthexplorer.usgs.gov/browse/landsat_8/2017/186/060/LC08_L1GT_186060_20171124_20171124_01_RT.jpg</td>\n",
       "      <td>LC81860602017328LGN00</td>\n",
       "      <td>LC08_L1GT_186060_20171124_20171124_01_RT</td>\n",
       "      <td>OLI_TIRS</td>\n",
       "      <td>2017-11-24</td>\n",
       "      <td>2017-11-24</td>\n",
       "      <td>186</td>\n",
       "      <td>60</td>\n",
       "      <td>1.04524</td>\n",
       "      <td>...</td>\n",
       "      <td>15</td>\n",
       "      <td>30</td>\n",
       "      <td>NORTH_UP</td>\n",
       "      <td>15481</td>\n",
       "      <td>15181</td>\n",
       "      <td>7741</td>\n",
       "      <td>7591</td>\n",
       "      <td>CUBIC_CONVOLUTION</td>\n",
       "      <td>7741</td>\n",
       "      <td>7591</td>\n",
       "    </tr>\n",
       "    <tr>\n",
       "      <th>4</th>\n",
       "      <td>Y</td>\n",
       "      <td>https://earthexplorer.usgs.gov/browse/landsat_8/2017/186/059/LC08_L1GT_186059_20171124_20171124_01_RT.jpg</td>\n",
       "      <td>LC81860592017328LGN00</td>\n",
       "      <td>LC08_L1GT_186059_20171124_20171124_01_RT</td>\n",
       "      <td>OLI_TIRS</td>\n",
       "      <td>2017-11-24</td>\n",
       "      <td>2017-11-24</td>\n",
       "      <td>186</td>\n",
       "      <td>59</td>\n",
       "      <td>2.49106</td>\n",
       "      <td>...</td>\n",
       "      <td>15</td>\n",
       "      <td>30</td>\n",
       "      <td>NORTH_UP</td>\n",
       "      <td>15461</td>\n",
       "      <td>15161</td>\n",
       "      <td>7731</td>\n",
       "      <td>7581</td>\n",
       "      <td>CUBIC_CONVOLUTION</td>\n",
       "      <td>7731</td>\n",
       "      <td>7581</td>\n",
       "    </tr>\n",
       "  </tbody>\n",
       "</table>\n",
       "<p>5 rows × 62 columns</p>\n",
       "</div>"
      ],
      "text/plain": [
       "  browseAvailable  \\\n",
       "0  Y                \n",
       "1  Y                \n",
       "2  Y                \n",
       "3  Y                \n",
       "4  Y                \n",
       "\n",
       "                                                                                                   browseURL  \\\n",
       "0  https://earthexplorer.usgs.gov/browse/landsat_8/2017/186/063/LC08_L1GT_186063_20171124_20171124_01_RT.jpg   \n",
       "1  https://earthexplorer.usgs.gov/browse/landsat_8/2017/186/062/LC08_L1TP_186062_20171124_20171124_01_RT.jpg   \n",
       "2  https://earthexplorer.usgs.gov/browse/landsat_8/2017/186/061/LC08_L1GT_186061_20171124_20171124_01_RT.jpg   \n",
       "3  https://earthexplorer.usgs.gov/browse/landsat_8/2017/186/060/LC08_L1GT_186060_20171124_20171124_01_RT.jpg   \n",
       "4  https://earthexplorer.usgs.gov/browse/landsat_8/2017/186/059/LC08_L1GT_186059_20171124_20171124_01_RT.jpg   \n",
       "\n",
       "                 sceneID                        LANDSAT_PRODUCT_ID    sensor  \\\n",
       "0  LC81860632017328LGN00  LC08_L1GT_186063_20171124_20171124_01_RT  OLI_TIRS   \n",
       "1  LC81860622017328LGN00  LC08_L1TP_186062_20171124_20171124_01_RT  OLI_TIRS   \n",
       "2  LC81860612017328LGN00  LC08_L1GT_186061_20171124_20171124_01_RT  OLI_TIRS   \n",
       "3  LC81860602017328LGN00  LC08_L1GT_186060_20171124_20171124_01_RT  OLI_TIRS   \n",
       "4  LC81860592017328LGN00  LC08_L1GT_186059_20171124_20171124_01_RT  OLI_TIRS   \n",
       "\n",
       "  acquisitionDate dateUpdated  path  row  upperLeftCornerLatitude  \\\n",
       "0 2017-11-24       2017-11-24  186   63  -3.29353                   \n",
       "1 2017-11-24       2017-11-24  186   62  -1.84725                   \n",
       "2 2017-11-24       2017-11-24  186   61  -0.40135                   \n",
       "3 2017-11-24       2017-11-24  186   60   1.04524                   \n",
       "4 2017-11-24       2017-11-24  186   59   2.49106                   \n",
       "\n",
       "        ...         GRID_CELL_SIZE_PANCHROMATIC  GRID_CELL_SIZE_THERMAL  \\\n",
       "0       ...         15                           30                       \n",
       "1       ...         15                           30                       \n",
       "2       ...         15                           30                       \n",
       "3       ...         15                           30                       \n",
       "4       ...         15                           30                       \n",
       "\n",
       "   ORIENTATION  PANCHROMATIC_LINES  PANCHROMATIC_SAMPLES  REFLECTIVE_LINES  \\\n",
       "0  NORTH_UP     15481               15181                 7741               \n",
       "1  NORTH_UP     15481               15181                 7741               \n",
       "2  NORTH_UP     15481               15181                 7741               \n",
       "3  NORTH_UP     15481               15181                 7741               \n",
       "4  NORTH_UP     15461               15161                 7731               \n",
       "\n",
       "   REFLECTIVE_SAMPLES  RESAMPLING_OPTION  THERMAL_LINES  THERMAL_SAMPLES  \n",
       "0  7591                CUBIC_CONVOLUTION  7741           7591             \n",
       "1  7591                CUBIC_CONVOLUTION  7741           7591             \n",
       "2  7591                CUBIC_CONVOLUTION  7741           7591             \n",
       "3  7591                CUBIC_CONVOLUTION  7741           7591             \n",
       "4  7581                CUBIC_CONVOLUTION  7731           7581             \n",
       "\n",
       "[5 rows x 62 columns]"
      ]
     },
     "execution_count": 4,
     "metadata": {},
     "output_type": "execute_result"
    }
   ],
   "source": [
    "scenes = pandas.read_csv(LANDSAT_SCENE_LIST)\n",
    "scenes[\"acquisitionDate\"] = scenes[\"acquisitionDate\"].astype(\"datetime64[ns]\")\n",
    "scenes.head()"
   ]
  },
  {
   "cell_type": "markdown",
   "metadata": {},
   "source": [
    "### Filter by Path-Row"
   ]
  },
  {
   "cell_type": "code",
   "execution_count": 34,
   "metadata": {},
   "outputs": [
    {
     "name": "stdout",
     "output_type": "stream",
     "text": [
      "\n",
      "Path: 114, Row: 55\n",
      "0 images found for 2013-1 to 2013-3\n",
      "7 images found for 2013-4 to 2013-6\n",
      "4 images found for 2013-7 to 2013-9\n",
      "3 images found for 2013-10 to 2013-12\n",
      "5 images found for 2014-1 to 2014-3\n",
      "4 images found for 2014-4 to 2014-6\n",
      "6 images found for 2014-7 to 2014-9\n",
      "6 images found for 2014-10 to 2014-12\n",
      "5 images found for 2015-1 to 2015-3\n",
      "6 images found for 2015-4 to 2015-6\n",
      "6 images found for 2015-7 to 2015-9\n",
      "6 images found for 2015-10 to 2015-12\n",
      "5 images found for 2016-1 to 2016-3\n",
      "6 images found for 2016-4 to 2016-6\n",
      "6 images found for 2016-7 to 2016-9\n",
      "6 images found for 2016-10 to 2016-12\n",
      "5 images found for 2017-1 to 2017-3\n",
      "6 images found for 2017-4 to 2017-6\n",
      "6 images found for 2017-7 to 2017-9\n",
      "3 images found for 2017-10 to 2017-12\n"
     ]
    }
   ],
   "source": [
    "start_year = 2013\n",
    "end_year = 2017\n",
    "\n",
    "download_list = []\n",
    "\n",
    "for path, row in PATH_ROWS:    \n",
    "    pathrow_df = scenes[(scenes['path'] == path) & (scenes['row'] == row)]\n",
    "\n",
    "    print(\"\\nPath: {}, Row: {}\".format(path, row))\n",
    "    for year in range(2013, end_year + 1):\n",
    "        for start_month in range(1, 12, 3):\n",
    "            filtered_df = pathrow_df[COLUMNS][(\n",
    "                (pathrow_df['acquisitionDate'].dt.year == year) &\n",
    "                (pathrow_df['acquisitionDate'].dt.month >= start_month) &\n",
    "                (pathrow_df['acquisitionDate'].dt.month <= start_month + 2)\n",
    "            )].sort_values(['cloudCover'])\n",
    "            \n",
    "            print(\"{count} images found for {year}-{start_month} to {year}-{end_month}\".format(\n",
    "                count=filtered_df.shape[0],\n",
    "                path=path,\n",
    "                row=row,\n",
    "                year=year,\n",
    "                start_month=start_month,\n",
    "                end_month=start_month + 2))\n",
    "            \n",
    "            # Add first item of each group into download_list\n",
    "            if filtered_df.shape[0] != 0:\n",
    "                download_list.append(filtered_df.head(5))"
   ]
  },
  {
   "cell_type": "code",
   "execution_count": 35,
   "metadata": {},
   "outputs": [
    {
     "data": {
      "text/plain": [
       "array([['LC81140552013149LGN01',\n",
       "        'https://earthexplorer.usgs.gov/browse/landsat_8/2013/114/055/LC08_L1TP_114055_20130529_20170504_01_T1.jpg'],\n",
       "       ['LC81140552013133LGN02',\n",
       "        'https://earthexplorer.usgs.gov/browse/landsat_8/2013/114/055/LC08_L1TP_114055_20130513_20170504_01_T1.jpg'],\n",
       "       ['LC81140552013117LGN02',\n",
       "        'https://earthexplorer.usgs.gov/browse/landsat_8/2013/114/055/LC08_L1TP_114055_20130427_20170505_01_T1.jpg'],\n",
       "       ['LC81140552013101LGN02',\n",
       "        'https://earthexplorer.usgs.gov/browse/landsat_8/2013/114/055/LC08_L1TP_114055_20130411_20170505_01_T1.jpg'],\n",
       "       ['LC81140552013091LGN02',\n",
       "        'https://earthexplorer.usgs.gov/browse/landsat_8/2013/114/055/LC08_L1TP_114055_20130401_20170505_01_T1.jpg'],\n",
       "       ['LC81140552013213LGN01',\n",
       "        'https://earthexplorer.usgs.gov/browse/landsat_8/2013/114/055/LC08_L1TP_114055_20130801_20170503_01_T1.jpg'],\n",
       "       ['LC81140552013261LGN01',\n",
       "        'https://earthexplorer.usgs.gov/browse/landsat_8/2013/114/055/LC08_L1TP_114055_20130918_20170502_01_T1.jpg'],\n",
       "       ['LC81140552013245LGN01',\n",
       "        'https://earthexplorer.usgs.gov/browse/landsat_8/2013/114/055/LC08_L1TP_114055_20130902_20170502_01_T1.jpg'],\n",
       "       ['LC81140552013197LGN01',\n",
       "        'https://earthexplorer.usgs.gov/browse/landsat_8/2013/114/055/LC08_L1GT_114055_20130716_20170503_01_T2.jpg'],\n",
       "       ['LC81140552013325LGN01',\n",
       "        'https://earthexplorer.usgs.gov/browse/landsat_8/2013/114/055/LC08_L1TP_114055_20131121_20170428_01_T1.jpg'],\n",
       "       ['LC81140552013341LGN01',\n",
       "        'https://earthexplorer.usgs.gov/browse/landsat_8/2013/114/055/LC08_L1TP_114055_20131207_20170428_01_T1.jpg'],\n",
       "       ['LC81140552013357LGN01',\n",
       "        'https://earthexplorer.usgs.gov/browse/landsat_8/2013/114/055/LC08_L1TP_114055_20131223_20170427_01_T1.jpg'],\n",
       "       ['LC81140552014008LGN01',\n",
       "        'https://earthexplorer.usgs.gov/browse/landsat_8/2014/114/055/LC08_L1TP_114055_20140108_20170426_01_T1.jpg'],\n",
       "       ['LC81140552014024LGN01',\n",
       "        'https://earthexplorer.usgs.gov/browse/landsat_8/2014/114/055/LC08_L1TP_114055_20140124_20170426_01_T1.jpg'],\n",
       "       ['LC81140552014088LGN01',\n",
       "        'https://earthexplorer.usgs.gov/browse/landsat_8/2014/114/055/LC08_L1TP_114055_20140329_20170424_01_T1.jpg'],\n",
       "       ['LC81140552014040LGN01',\n",
       "        'https://earthexplorer.usgs.gov/browse/landsat_8/2014/114/055/LC08_L1TP_114055_20140209_20170426_01_T1.jpg'],\n",
       "       ['LC81140552014072LGN01',\n",
       "        'https://earthexplorer.usgs.gov/browse/landsat_8/2014/114/055/LC08_L1TP_114055_20140313_20170425_01_T1.jpg'],\n",
       "       ['LC81140552014152LGN01',\n",
       "        'https://earthexplorer.usgs.gov/browse/landsat_8/2014/114/055/LC08_L1TP_114055_20140601_20170422_01_T1.jpg'],\n",
       "       ['LC81140552014104LGN01',\n",
       "        'https://earthexplorer.usgs.gov/browse/landsat_8/2014/114/055/LC08_L1TP_114055_20140414_20170423_01_T1.jpg'],\n",
       "       ['LC81140552014136LGN01',\n",
       "        'https://earthexplorer.usgs.gov/browse/landsat_8/2014/114/055/LC08_L1TP_114055_20140516_20170422_01_T1.jpg'],\n",
       "       ['LC81140552014168LGN01',\n",
       "        'https://earthexplorer.usgs.gov/browse/landsat_8/2014/114/055/LC08_L1TP_114055_20140617_20170421_01_T2.jpg'],\n",
       "       ['LC81140552014184LGN01',\n",
       "        'https://earthexplorer.usgs.gov/browse/landsat_8/2014/114/055/LC08_L1GT_114055_20140703_20170421_01_T2.jpg'],\n",
       "       ['LC81140552014216LGN01',\n",
       "        'https://earthexplorer.usgs.gov/browse/landsat_8/2014/114/055/LC08_L1TP_114055_20140804_20170420_01_T1.jpg'],\n",
       "       ['LC81140552014248LGN01',\n",
       "        'https://earthexplorer.usgs.gov/browse/landsat_8/2014/114/055/LC08_L1TP_114055_20140905_20170419_01_T1.jpg'],\n",
       "       ['LC81140552014232LGN01',\n",
       "        'https://earthexplorer.usgs.gov/browse/landsat_8/2014/114/055/LC08_L1TP_114055_20140820_20170420_01_T1.jpg'],\n",
       "       ['LC81140552014264LGN01',\n",
       "        'https://earthexplorer.usgs.gov/browse/landsat_8/2014/114/055/LC08_L1TP_114055_20140921_20170419_01_T1.jpg'],\n",
       "       ['LC81140552014344LGN01',\n",
       "        'https://earthexplorer.usgs.gov/browse/landsat_8/2014/114/055/LC08_L1TP_114055_20141210_20170416_01_T1.jpg'],\n",
       "       ['LC81140552014360LGN01',\n",
       "        'https://earthexplorer.usgs.gov/browse/landsat_8/2014/114/055/LC08_L1TP_114055_20141226_20170415_01_T1.jpg'],\n",
       "       ['LC81140552014328LGN01',\n",
       "        'https://earthexplorer.usgs.gov/browse/landsat_8/2014/114/055/LC08_L1TP_114055_20141124_20170417_01_T1.jpg'],\n",
       "       ['LC81140552014312LGN01',\n",
       "        'https://earthexplorer.usgs.gov/browse/landsat_8/2014/114/055/LC08_L1TP_114055_20141108_20170417_01_T1.jpg'],\n",
       "       ['LC81140552014296LGN01',\n",
       "        'https://earthexplorer.usgs.gov/browse/landsat_8/2014/114/055/LC08_L1TP_114055_20141023_20170418_01_T1.jpg'],\n",
       "       ['LC81140552015075LGN01',\n",
       "        'https://earthexplorer.usgs.gov/browse/landsat_8/2015/114/055/LC08_L1TP_114055_20150316_20170412_01_T1.jpg'],\n",
       "       ['LC81140552015043LGN01',\n",
       "        'https://earthexplorer.usgs.gov/browse/landsat_8/2015/114/055/LC08_L1TP_114055_20150212_20170413_01_T1.jpg'],\n",
       "       ['LC81140552015059LGN01',\n",
       "        'https://earthexplorer.usgs.gov/browse/landsat_8/2015/114/055/LC08_L1TP_114055_20150228_20170412_01_T1.jpg'],\n",
       "       ['LC81140552015011LGN01',\n",
       "        'https://earthexplorer.usgs.gov/browse/landsat_8/2015/114/055/LC08_L1TP_114055_20150111_20170415_01_T1.jpg'],\n",
       "       ['LC81140552015027LGN01',\n",
       "        'https://earthexplorer.usgs.gov/browse/landsat_8/2015/114/055/LC08_L1TP_114055_20150127_20170413_01_T1.jpg'],\n",
       "       ['LC81140552015139LGN01',\n",
       "        'https://earthexplorer.usgs.gov/browse/landsat_8/2015/114/055/LC08_L1TP_114055_20150519_20170408_01_T1.jpg'],\n",
       "       ['LC81140552015091LGN01',\n",
       "        'https://earthexplorer.usgs.gov/browse/landsat_8/2015/114/055/LC08_L1TP_114055_20150401_20170411_01_T1.jpg'],\n",
       "       ['LC81140552015155LGN01',\n",
       "        'https://earthexplorer.usgs.gov/browse/landsat_8/2015/114/055/LC08_L1TP_114055_20150604_20170408_01_T1.jpg'],\n",
       "       ['LC81140552015171LGN01',\n",
       "        'https://earthexplorer.usgs.gov/browse/landsat_8/2015/114/055/LC08_L1TP_114055_20150620_20170407_01_T1.jpg'],\n",
       "       ['LC81140552015123LGN01',\n",
       "        'https://earthexplorer.usgs.gov/browse/landsat_8/2015/114/055/LC08_L1TP_114055_20150503_20170409_01_T1.jpg'],\n",
       "       ['LC81140552015235LGN01',\n",
       "        'https://earthexplorer.usgs.gov/browse/landsat_8/2015/114/055/LC08_L1TP_114055_20150823_20170405_01_T1.jpg'],\n",
       "       ['LC81140552015203LGN01',\n",
       "        'https://earthexplorer.usgs.gov/browse/landsat_8/2015/114/055/LC08_L1TP_114055_20150722_20170406_01_T1.jpg'],\n",
       "       ['LC81140552015187LGN01',\n",
       "        'https://earthexplorer.usgs.gov/browse/landsat_8/2015/114/055/LC08_L1TP_114055_20150706_20170407_01_T1.jpg'],\n",
       "       ['LC81140552015251LGN01',\n",
       "        'https://earthexplorer.usgs.gov/browse/landsat_8/2015/114/055/LC08_L1TP_114055_20150908_20170404_01_T1.jpg'],\n",
       "       ['LC81140552015267LGN01',\n",
       "        'https://earthexplorer.usgs.gov/browse/landsat_8/2015/114/055/LC08_L1TP_114055_20150924_20170403_01_T1.jpg'],\n",
       "       ['LC81140552015347LGN01',\n",
       "        'https://earthexplorer.usgs.gov/browse/landsat_8/2015/114/055/LC08_L1TP_114055_20151213_20170401_01_T1.jpg'],\n",
       "       ['LC81140552015315LGN01',\n",
       "        'https://earthexplorer.usgs.gov/browse/landsat_8/2015/114/055/LC08_L1TP_114055_20151111_20170402_01_T1.jpg'],\n",
       "       ['LC81140552015331LGN02',\n",
       "        'https://earthexplorer.usgs.gov/browse/landsat_8/2015/114/055/LC08_L1TP_114055_20151127_20170401_01_T1.jpg'],\n",
       "       ['LC81140552015299LGN01',\n",
       "        'https://earthexplorer.usgs.gov/browse/landsat_8/2015/114/055/LC08_L1TP_114055_20151026_20170402_01_T1.jpg'],\n",
       "       ['LC81140552015283LGN01',\n",
       "        'https://earthexplorer.usgs.gov/browse/landsat_8/2015/114/055/LC08_L1TP_114055_20151010_20170403_01_T1.jpg'],\n",
       "       ['LC81140552016078LGN01',\n",
       "        'https://earthexplorer.usgs.gov/browse/landsat_8/2016/114/055/LC08_L1TP_114055_20160318_20170328_01_T1.jpg'],\n",
       "       ['LC81140552016030LGN01',\n",
       "        'https://earthexplorer.usgs.gov/browse/landsat_8/2016/114/055/LC08_L1TP_114055_20160130_20170330_01_T1.jpg'],\n",
       "       ['LC81140552016062LGN01',\n",
       "        'https://earthexplorer.usgs.gov/browse/landsat_8/2016/114/055/LC08_L1TP_114055_20160302_20170328_01_T1.jpg'],\n",
       "       ['LC81140552016046LGN01',\n",
       "        'https://earthexplorer.usgs.gov/browse/landsat_8/2016/114/055/LC08_L1TP_114055_20160215_20170329_01_T1.jpg'],\n",
       "       ['LC81140552016014LGN02',\n",
       "        'https://earthexplorer.usgs.gov/browse/landsat_8/2016/114/055/LC08_L1TP_114055_20160114_20170405_01_T1.jpg'],\n",
       "       ['LC81140552016142LGN01',\n",
       "        'https://earthexplorer.usgs.gov/browse/landsat_8/2016/114/055/LC08_L1TP_114055_20160521_20170324_01_T1.jpg'],\n",
       "       ['LC81140552016110LGN01',\n",
       "        'https://earthexplorer.usgs.gov/browse/landsat_8/2016/114/055/LC08_L1TP_114055_20160419_20170326_01_T1.jpg'],\n",
       "       ['LC81140552016094LGN01',\n",
       "        'https://earthexplorer.usgs.gov/browse/landsat_8/2016/114/055/LC08_L1TP_114055_20160403_20170327_01_T1.jpg'],\n",
       "       ['LC81140552016126LGN01',\n",
       "        'https://earthexplorer.usgs.gov/browse/landsat_8/2016/114/055/LC08_L1TP_114055_20160505_20170325_01_T1.jpg'],\n",
       "       ['LC81140552016158LGN01',\n",
       "        'https://earthexplorer.usgs.gov/browse/landsat_8/2016/114/055/LC08_L1TP_114055_20160606_20170324_01_T1.jpg'],\n",
       "       ['LC81140552016190LGN01',\n",
       "        'https://earthexplorer.usgs.gov/browse/landsat_8/2016/114/055/LC08_L1TP_114055_20160708_20170323_01_T1.jpg'],\n",
       "       ['LC81140552016270LGN02',\n",
       "        'https://earthexplorer.usgs.gov/browse/landsat_8/2016/114/055/LC08_L1TP_114055_20160926_20170319_01_T1.jpg'],\n",
       "       ['LC81140552016238LGN01',\n",
       "        'https://earthexplorer.usgs.gov/browse/landsat_8/2016/114/055/LC08_L1TP_114055_20160825_20170322_01_T1.jpg'],\n",
       "       ['LC81140552016222LGN01',\n",
       "        'https://earthexplorer.usgs.gov/browse/landsat_8/2016/114/055/LC08_L1TP_114055_20160809_20170322_01_T1.jpg'],\n",
       "       ['LC81140552016206LGN01',\n",
       "        'https://earthexplorer.usgs.gov/browse/landsat_8/2016/114/055/LC08_L1TP_114055_20160724_20170322_01_T1.jpg'],\n",
       "       ['LC81140552016318LGN01',\n",
       "        'https://earthexplorer.usgs.gov/browse/landsat_8/2016/114/055/LC08_L1TP_114055_20161113_20170318_01_T1.jpg'],\n",
       "       ['LC81140552016366LGN01',\n",
       "        'https://earthexplorer.usgs.gov/browse/landsat_8/2016/114/055/LC08_L1TP_114055_20161231_20170314_01_T1.jpg'],\n",
       "       ['LC81140552016334LGN01',\n",
       "        'https://earthexplorer.usgs.gov/browse/landsat_8/2016/114/055/LC08_L1TP_114055_20161129_20170317_01_T1.jpg'],\n",
       "       ['LC81140552016350LGN01',\n",
       "        'https://earthexplorer.usgs.gov/browse/landsat_8/2016/114/055/LC08_L1TP_114055_20161215_20170316_01_T1.jpg'],\n",
       "       ['LC81140552016286LGN01',\n",
       "        'https://earthexplorer.usgs.gov/browse/landsat_8/2016/114/055/LC08_L1TP_114055_20161012_20170319_01_T1.jpg'],\n",
       "       ['LC81140552017032LGN00',\n",
       "        'https://earthexplorer.usgs.gov/browse/landsat_8/2017/114/055/LC08_L1TP_114055_20170201_20170215_01_T1.jpg'],\n",
       "       ['LC81140552017080LGN00',\n",
       "        'https://earthexplorer.usgs.gov/browse/landsat_8/2017/114/055/LC08_L1TP_114055_20170321_20170328_01_T1.jpg'],\n",
       "       ['LC81140552017064LGN00',\n",
       "        'https://earthexplorer.usgs.gov/browse/landsat_8/2017/114/055/LC08_L1TP_114055_20170305_20170316_01_T1.jpg'],\n",
       "       ['LC81140552017048LGN00',\n",
       "        'https://earthexplorer.usgs.gov/browse/landsat_8/2017/114/055/LC08_L1TP_114055_20170217_20170228_01_T1.jpg'],\n",
       "       ['LC81140552017016LGN01',\n",
       "        'https://earthexplorer.usgs.gov/browse/landsat_8/2017/114/055/LC08_L1TP_114055_20170116_20170311_01_T1.jpg'],\n",
       "       ['LC81140552017112LGN00',\n",
       "        'https://earthexplorer.usgs.gov/browse/landsat_8/2017/114/055/LC08_L1TP_114055_20170422_20170501_01_T1.jpg'],\n",
       "       ['LC81140552017096LGN00',\n",
       "        'https://earthexplorer.usgs.gov/browse/landsat_8/2017/114/055/LC08_L1TP_114055_20170406_20170414_01_T1.jpg'],\n",
       "       ['LC81140552017144LGN00',\n",
       "        'https://earthexplorer.usgs.gov/browse/landsat_8/2017/114/055/LC08_L1TP_114055_20170524_20170526_01_T1.jpg'],\n",
       "       ['LC81140552017176LGN00',\n",
       "        'https://earthexplorer.usgs.gov/browse/landsat_8/2017/114/055/LC08_L1TP_114055_20170625_20170713_01_T1.jpg'],\n",
       "       ['LC81140552017160LGN00',\n",
       "        'https://earthexplorer.usgs.gov/browse/landsat_8/2017/114/055/LC08_L1TP_114055_20170609_20170616_01_T1.jpg'],\n",
       "       ['LC81140552017208LGN00',\n",
       "        'https://earthexplorer.usgs.gov/browse/landsat_8/2017/114/055/LC08_L1TP_114055_20170727_20170810_01_T1.jpg'],\n",
       "       ['LC81140552017272LGN00',\n",
       "        'https://earthexplorer.usgs.gov/browse/landsat_8/2017/114/055/LC08_L1TP_114055_20170929_20171013_01_T1.jpg'],\n",
       "       ['LC81140552017240LGN00',\n",
       "        'https://earthexplorer.usgs.gov/browse/landsat_8/2017/114/055/LC08_L1TP_114055_20170828_20170914_01_T1.jpg'],\n",
       "       ['LC81140552017224LGN00',\n",
       "        'https://earthexplorer.usgs.gov/browse/landsat_8/2017/114/055/LC08_L1TP_114055_20170812_20170824_01_T1.jpg'],\n",
       "       ['LC81140552017192LGN00',\n",
       "        'https://earthexplorer.usgs.gov/browse/landsat_8/2017/114/055/LC08_L1TP_114055_20170711_20170725_01_T1.jpg'],\n",
       "       ['LC81140552017304LGN00',\n",
       "        'https://earthexplorer.usgs.gov/browse/landsat_8/2017/114/055/LC08_L1TP_114055_20171031_20171109_01_T1.jpg'],\n",
       "       ['LC81140552017320LGN00',\n",
       "        'https://earthexplorer.usgs.gov/browse/landsat_8/2017/114/055/LC08_L1GT_114055_20171116_20171122_01_T2.jpg'],\n",
       "       ['LC81140552017288LGN00',\n",
       "        'https://earthexplorer.usgs.gov/browse/landsat_8/2017/114/055/LC08_L1GT_114055_20171015_20171024_01_T2.jpg']], dtype=object)"
      ]
     },
     "execution_count": 35,
     "metadata": {},
     "output_type": "execute_result"
    }
   ],
   "source": [
    "download_df = pandas.concat(download_list, axis=0, ignore_index=False)\n",
    "download_df[['sceneID', 'browseURL']].values"
   ]
  },
  {
   "cell_type": "code",
   "execution_count": 36,
   "metadata": {
    "scrolled": false
   },
   "outputs": [
    {
     "name": "stdout",
     "output_type": "stream",
     "text": [
      "LC81140552013149LGN01\n"
     ]
    },
    {
     "data": {
      "text/html": [
       "<img src=\"https://earthexplorer.usgs.gov/browse/landsat_8/2013/114/055/LC08_L1TP_114055_20130529_20170504_01_T1.jpg\"/>"
      ],
      "text/plain": [
       "<IPython.core.display.Image object>"
      ]
     },
     "metadata": {},
     "output_type": "display_data"
    },
    {
     "name": "stdout",
     "output_type": "stream",
     "text": [
      "LC81140552013133LGN02\n"
     ]
    },
    {
     "data": {
      "text/html": [
       "<img src=\"https://earthexplorer.usgs.gov/browse/landsat_8/2013/114/055/LC08_L1TP_114055_20130513_20170504_01_T1.jpg\"/>"
      ],
      "text/plain": [
       "<IPython.core.display.Image object>"
      ]
     },
     "metadata": {},
     "output_type": "display_data"
    },
    {
     "name": "stdout",
     "output_type": "stream",
     "text": [
      "LC81140552013117LGN02\n"
     ]
    },
    {
     "data": {
      "text/html": [
       "<img src=\"https://earthexplorer.usgs.gov/browse/landsat_8/2013/114/055/LC08_L1TP_114055_20130427_20170505_01_T1.jpg\"/>"
      ],
      "text/plain": [
       "<IPython.core.display.Image object>"
      ]
     },
     "metadata": {},
     "output_type": "display_data"
    },
    {
     "name": "stdout",
     "output_type": "stream",
     "text": [
      "LC81140552013101LGN02\n"
     ]
    },
    {
     "data": {
      "text/html": [
       "<img src=\"https://earthexplorer.usgs.gov/browse/landsat_8/2013/114/055/LC08_L1TP_114055_20130411_20170505_01_T1.jpg\"/>"
      ],
      "text/plain": [
       "<IPython.core.display.Image object>"
      ]
     },
     "metadata": {},
     "output_type": "display_data"
    },
    {
     "name": "stdout",
     "output_type": "stream",
     "text": [
      "LC81140552013091LGN02\n"
     ]
    },
    {
     "data": {
      "text/html": [
       "<img src=\"https://earthexplorer.usgs.gov/browse/landsat_8/2013/114/055/LC08_L1TP_114055_20130401_20170505_01_T1.jpg\"/>"
      ],
      "text/plain": [
       "<IPython.core.display.Image object>"
      ]
     },
     "metadata": {},
     "output_type": "display_data"
    },
    {
     "name": "stdout",
     "output_type": "stream",
     "text": [
      "LC81140552013213LGN01\n"
     ]
    },
    {
     "data": {
      "text/html": [
       "<img src=\"https://earthexplorer.usgs.gov/browse/landsat_8/2013/114/055/LC08_L1TP_114055_20130801_20170503_01_T1.jpg\"/>"
      ],
      "text/plain": [
       "<IPython.core.display.Image object>"
      ]
     },
     "metadata": {},
     "output_type": "display_data"
    },
    {
     "name": "stdout",
     "output_type": "stream",
     "text": [
      "LC81140552013261LGN01\n"
     ]
    },
    {
     "data": {
      "text/html": [
       "<img src=\"https://earthexplorer.usgs.gov/browse/landsat_8/2013/114/055/LC08_L1TP_114055_20130918_20170502_01_T1.jpg\"/>"
      ],
      "text/plain": [
       "<IPython.core.display.Image object>"
      ]
     },
     "metadata": {},
     "output_type": "display_data"
    },
    {
     "name": "stdout",
     "output_type": "stream",
     "text": [
      "LC81140552013245LGN01\n"
     ]
    },
    {
     "data": {
      "text/html": [
       "<img src=\"https://earthexplorer.usgs.gov/browse/landsat_8/2013/114/055/LC08_L1TP_114055_20130902_20170502_01_T1.jpg\"/>"
      ],
      "text/plain": [
       "<IPython.core.display.Image object>"
      ]
     },
     "metadata": {},
     "output_type": "display_data"
    },
    {
     "name": "stdout",
     "output_type": "stream",
     "text": [
      "LC81140552013197LGN01\n"
     ]
    },
    {
     "data": {
      "text/html": [
       "<img src=\"https://earthexplorer.usgs.gov/browse/landsat_8/2013/114/055/LC08_L1GT_114055_20130716_20170503_01_T2.jpg\"/>"
      ],
      "text/plain": [
       "<IPython.core.display.Image object>"
      ]
     },
     "metadata": {},
     "output_type": "display_data"
    },
    {
     "name": "stdout",
     "output_type": "stream",
     "text": [
      "LC81140552013325LGN01\n"
     ]
    },
    {
     "data": {
      "text/html": [
       "<img src=\"https://earthexplorer.usgs.gov/browse/landsat_8/2013/114/055/LC08_L1TP_114055_20131121_20170428_01_T1.jpg\"/>"
      ],
      "text/plain": [
       "<IPython.core.display.Image object>"
      ]
     },
     "metadata": {},
     "output_type": "display_data"
    },
    {
     "name": "stdout",
     "output_type": "stream",
     "text": [
      "LC81140552013341LGN01\n"
     ]
    },
    {
     "data": {
      "text/html": [
       "<img src=\"https://earthexplorer.usgs.gov/browse/landsat_8/2013/114/055/LC08_L1TP_114055_20131207_20170428_01_T1.jpg\"/>"
      ],
      "text/plain": [
       "<IPython.core.display.Image object>"
      ]
     },
     "metadata": {},
     "output_type": "display_data"
    },
    {
     "name": "stdout",
     "output_type": "stream",
     "text": [
      "LC81140552013357LGN01\n"
     ]
    },
    {
     "data": {
      "text/html": [
       "<img src=\"https://earthexplorer.usgs.gov/browse/landsat_8/2013/114/055/LC08_L1TP_114055_20131223_20170427_01_T1.jpg\"/>"
      ],
      "text/plain": [
       "<IPython.core.display.Image object>"
      ]
     },
     "metadata": {},
     "output_type": "display_data"
    },
    {
     "name": "stdout",
     "output_type": "stream",
     "text": [
      "LC81140552014008LGN01\n"
     ]
    },
    {
     "data": {
      "text/html": [
       "<img src=\"https://earthexplorer.usgs.gov/browse/landsat_8/2014/114/055/LC08_L1TP_114055_20140108_20170426_01_T1.jpg\"/>"
      ],
      "text/plain": [
       "<IPython.core.display.Image object>"
      ]
     },
     "metadata": {},
     "output_type": "display_data"
    },
    {
     "name": "stdout",
     "output_type": "stream",
     "text": [
      "LC81140552014024LGN01\n"
     ]
    },
    {
     "data": {
      "text/html": [
       "<img src=\"https://earthexplorer.usgs.gov/browse/landsat_8/2014/114/055/LC08_L1TP_114055_20140124_20170426_01_T1.jpg\"/>"
      ],
      "text/plain": [
       "<IPython.core.display.Image object>"
      ]
     },
     "metadata": {},
     "output_type": "display_data"
    },
    {
     "name": "stdout",
     "output_type": "stream",
     "text": [
      "LC81140552014088LGN01\n"
     ]
    },
    {
     "data": {
      "text/html": [
       "<img src=\"https://earthexplorer.usgs.gov/browse/landsat_8/2014/114/055/LC08_L1TP_114055_20140329_20170424_01_T1.jpg\"/>"
      ],
      "text/plain": [
       "<IPython.core.display.Image object>"
      ]
     },
     "metadata": {},
     "output_type": "display_data"
    },
    {
     "name": "stdout",
     "output_type": "stream",
     "text": [
      "LC81140552014040LGN01\n"
     ]
    },
    {
     "data": {
      "text/html": [
       "<img src=\"https://earthexplorer.usgs.gov/browse/landsat_8/2014/114/055/LC08_L1TP_114055_20140209_20170426_01_T1.jpg\"/>"
      ],
      "text/plain": [
       "<IPython.core.display.Image object>"
      ]
     },
     "metadata": {},
     "output_type": "display_data"
    },
    {
     "name": "stdout",
     "output_type": "stream",
     "text": [
      "LC81140552014072LGN01\n"
     ]
    },
    {
     "data": {
      "text/html": [
       "<img src=\"https://earthexplorer.usgs.gov/browse/landsat_8/2014/114/055/LC08_L1TP_114055_20140313_20170425_01_T1.jpg\"/>"
      ],
      "text/plain": [
       "<IPython.core.display.Image object>"
      ]
     },
     "metadata": {},
     "output_type": "display_data"
    },
    {
     "name": "stdout",
     "output_type": "stream",
     "text": [
      "LC81140552014152LGN01\n"
     ]
    },
    {
     "data": {
      "text/html": [
       "<img src=\"https://earthexplorer.usgs.gov/browse/landsat_8/2014/114/055/LC08_L1TP_114055_20140601_20170422_01_T1.jpg\"/>"
      ],
      "text/plain": [
       "<IPython.core.display.Image object>"
      ]
     },
     "metadata": {},
     "output_type": "display_data"
    },
    {
     "name": "stdout",
     "output_type": "stream",
     "text": [
      "LC81140552014104LGN01\n"
     ]
    },
    {
     "data": {
      "text/html": [
       "<img src=\"https://earthexplorer.usgs.gov/browse/landsat_8/2014/114/055/LC08_L1TP_114055_20140414_20170423_01_T1.jpg\"/>"
      ],
      "text/plain": [
       "<IPython.core.display.Image object>"
      ]
     },
     "metadata": {},
     "output_type": "display_data"
    },
    {
     "name": "stdout",
     "output_type": "stream",
     "text": [
      "LC81140552014136LGN01\n"
     ]
    },
    {
     "data": {
      "text/html": [
       "<img src=\"https://earthexplorer.usgs.gov/browse/landsat_8/2014/114/055/LC08_L1TP_114055_20140516_20170422_01_T1.jpg\"/>"
      ],
      "text/plain": [
       "<IPython.core.display.Image object>"
      ]
     },
     "metadata": {},
     "output_type": "display_data"
    },
    {
     "name": "stdout",
     "output_type": "stream",
     "text": [
      "LC81140552014168LGN01\n"
     ]
    },
    {
     "data": {
      "text/html": [
       "<img src=\"https://earthexplorer.usgs.gov/browse/landsat_8/2014/114/055/LC08_L1TP_114055_20140617_20170421_01_T2.jpg\"/>"
      ],
      "text/plain": [
       "<IPython.core.display.Image object>"
      ]
     },
     "metadata": {},
     "output_type": "display_data"
    },
    {
     "name": "stdout",
     "output_type": "stream",
     "text": [
      "LC81140552014184LGN01\n"
     ]
    },
    {
     "data": {
      "text/html": [
       "<img src=\"https://earthexplorer.usgs.gov/browse/landsat_8/2014/114/055/LC08_L1GT_114055_20140703_20170421_01_T2.jpg\"/>"
      ],
      "text/plain": [
       "<IPython.core.display.Image object>"
      ]
     },
     "metadata": {},
     "output_type": "display_data"
    },
    {
     "name": "stdout",
     "output_type": "stream",
     "text": [
      "LC81140552014216LGN01\n"
     ]
    },
    {
     "data": {
      "text/html": [
       "<img src=\"https://earthexplorer.usgs.gov/browse/landsat_8/2014/114/055/LC08_L1TP_114055_20140804_20170420_01_T1.jpg\"/>"
      ],
      "text/plain": [
       "<IPython.core.display.Image object>"
      ]
     },
     "metadata": {},
     "output_type": "display_data"
    },
    {
     "name": "stdout",
     "output_type": "stream",
     "text": [
      "LC81140552014248LGN01\n"
     ]
    },
    {
     "data": {
      "text/html": [
       "<img src=\"https://earthexplorer.usgs.gov/browse/landsat_8/2014/114/055/LC08_L1TP_114055_20140905_20170419_01_T1.jpg\"/>"
      ],
      "text/plain": [
       "<IPython.core.display.Image object>"
      ]
     },
     "metadata": {},
     "output_type": "display_data"
    },
    {
     "name": "stdout",
     "output_type": "stream",
     "text": [
      "LC81140552014232LGN01\n"
     ]
    },
    {
     "data": {
      "text/html": [
       "<img src=\"https://earthexplorer.usgs.gov/browse/landsat_8/2014/114/055/LC08_L1TP_114055_20140820_20170420_01_T1.jpg\"/>"
      ],
      "text/plain": [
       "<IPython.core.display.Image object>"
      ]
     },
     "metadata": {},
     "output_type": "display_data"
    },
    {
     "name": "stdout",
     "output_type": "stream",
     "text": [
      "LC81140552014264LGN01\n"
     ]
    },
    {
     "data": {
      "text/html": [
       "<img src=\"https://earthexplorer.usgs.gov/browse/landsat_8/2014/114/055/LC08_L1TP_114055_20140921_20170419_01_T1.jpg\"/>"
      ],
      "text/plain": [
       "<IPython.core.display.Image object>"
      ]
     },
     "metadata": {},
     "output_type": "display_data"
    },
    {
     "name": "stdout",
     "output_type": "stream",
     "text": [
      "LC81140552014344LGN01\n"
     ]
    },
    {
     "data": {
      "text/html": [
       "<img src=\"https://earthexplorer.usgs.gov/browse/landsat_8/2014/114/055/LC08_L1TP_114055_20141210_20170416_01_T1.jpg\"/>"
      ],
      "text/plain": [
       "<IPython.core.display.Image object>"
      ]
     },
     "metadata": {},
     "output_type": "display_data"
    },
    {
     "name": "stdout",
     "output_type": "stream",
     "text": [
      "LC81140552014360LGN01\n"
     ]
    },
    {
     "data": {
      "text/html": [
       "<img src=\"https://earthexplorer.usgs.gov/browse/landsat_8/2014/114/055/LC08_L1TP_114055_20141226_20170415_01_T1.jpg\"/>"
      ],
      "text/plain": [
       "<IPython.core.display.Image object>"
      ]
     },
     "metadata": {},
     "output_type": "display_data"
    },
    {
     "name": "stdout",
     "output_type": "stream",
     "text": [
      "LC81140552014328LGN01\n"
     ]
    },
    {
     "data": {
      "text/html": [
       "<img src=\"https://earthexplorer.usgs.gov/browse/landsat_8/2014/114/055/LC08_L1TP_114055_20141124_20170417_01_T1.jpg\"/>"
      ],
      "text/plain": [
       "<IPython.core.display.Image object>"
      ]
     },
     "metadata": {},
     "output_type": "display_data"
    },
    {
     "name": "stdout",
     "output_type": "stream",
     "text": [
      "LC81140552014312LGN01\n"
     ]
    },
    {
     "data": {
      "text/html": [
       "<img src=\"https://earthexplorer.usgs.gov/browse/landsat_8/2014/114/055/LC08_L1TP_114055_20141108_20170417_01_T1.jpg\"/>"
      ],
      "text/plain": [
       "<IPython.core.display.Image object>"
      ]
     },
     "metadata": {},
     "output_type": "display_data"
    },
    {
     "name": "stdout",
     "output_type": "stream",
     "text": [
      "LC81140552014296LGN01\n"
     ]
    },
    {
     "data": {
      "text/html": [
       "<img src=\"https://earthexplorer.usgs.gov/browse/landsat_8/2014/114/055/LC08_L1TP_114055_20141023_20170418_01_T1.jpg\"/>"
      ],
      "text/plain": [
       "<IPython.core.display.Image object>"
      ]
     },
     "metadata": {},
     "output_type": "display_data"
    },
    {
     "name": "stdout",
     "output_type": "stream",
     "text": [
      "LC81140552015075LGN01\n"
     ]
    },
    {
     "data": {
      "text/html": [
       "<img src=\"https://earthexplorer.usgs.gov/browse/landsat_8/2015/114/055/LC08_L1TP_114055_20150316_20170412_01_T1.jpg\"/>"
      ],
      "text/plain": [
       "<IPython.core.display.Image object>"
      ]
     },
     "metadata": {},
     "output_type": "display_data"
    },
    {
     "name": "stdout",
     "output_type": "stream",
     "text": [
      "LC81140552015043LGN01\n"
     ]
    },
    {
     "data": {
      "text/html": [
       "<img src=\"https://earthexplorer.usgs.gov/browse/landsat_8/2015/114/055/LC08_L1TP_114055_20150212_20170413_01_T1.jpg\"/>"
      ],
      "text/plain": [
       "<IPython.core.display.Image object>"
      ]
     },
     "metadata": {},
     "output_type": "display_data"
    },
    {
     "name": "stdout",
     "output_type": "stream",
     "text": [
      "LC81140552015059LGN01\n"
     ]
    },
    {
     "data": {
      "text/html": [
       "<img src=\"https://earthexplorer.usgs.gov/browse/landsat_8/2015/114/055/LC08_L1TP_114055_20150228_20170412_01_T1.jpg\"/>"
      ],
      "text/plain": [
       "<IPython.core.display.Image object>"
      ]
     },
     "metadata": {},
     "output_type": "display_data"
    },
    {
     "name": "stdout",
     "output_type": "stream",
     "text": [
      "LC81140552015011LGN01\n"
     ]
    },
    {
     "data": {
      "text/html": [
       "<img src=\"https://earthexplorer.usgs.gov/browse/landsat_8/2015/114/055/LC08_L1TP_114055_20150111_20170415_01_T1.jpg\"/>"
      ],
      "text/plain": [
       "<IPython.core.display.Image object>"
      ]
     },
     "metadata": {},
     "output_type": "display_data"
    },
    {
     "name": "stdout",
     "output_type": "stream",
     "text": [
      "LC81140552015027LGN01\n"
     ]
    },
    {
     "data": {
      "text/html": [
       "<img src=\"https://earthexplorer.usgs.gov/browse/landsat_8/2015/114/055/LC08_L1TP_114055_20150127_20170413_01_T1.jpg\"/>"
      ],
      "text/plain": [
       "<IPython.core.display.Image object>"
      ]
     },
     "metadata": {},
     "output_type": "display_data"
    },
    {
     "name": "stdout",
     "output_type": "stream",
     "text": [
      "LC81140552015139LGN01\n"
     ]
    },
    {
     "data": {
      "text/html": [
       "<img src=\"https://earthexplorer.usgs.gov/browse/landsat_8/2015/114/055/LC08_L1TP_114055_20150519_20170408_01_T1.jpg\"/>"
      ],
      "text/plain": [
       "<IPython.core.display.Image object>"
      ]
     },
     "metadata": {},
     "output_type": "display_data"
    },
    {
     "name": "stdout",
     "output_type": "stream",
     "text": [
      "LC81140552015091LGN01\n"
     ]
    },
    {
     "data": {
      "text/html": [
       "<img src=\"https://earthexplorer.usgs.gov/browse/landsat_8/2015/114/055/LC08_L1TP_114055_20150401_20170411_01_T1.jpg\"/>"
      ],
      "text/plain": [
       "<IPython.core.display.Image object>"
      ]
     },
     "metadata": {},
     "output_type": "display_data"
    },
    {
     "name": "stdout",
     "output_type": "stream",
     "text": [
      "LC81140552015155LGN01\n"
     ]
    },
    {
     "data": {
      "text/html": [
       "<img src=\"https://earthexplorer.usgs.gov/browse/landsat_8/2015/114/055/LC08_L1TP_114055_20150604_20170408_01_T1.jpg\"/>"
      ],
      "text/plain": [
       "<IPython.core.display.Image object>"
      ]
     },
     "metadata": {},
     "output_type": "display_data"
    },
    {
     "name": "stdout",
     "output_type": "stream",
     "text": [
      "LC81140552015171LGN01\n"
     ]
    },
    {
     "data": {
      "text/html": [
       "<img src=\"https://earthexplorer.usgs.gov/browse/landsat_8/2015/114/055/LC08_L1TP_114055_20150620_20170407_01_T1.jpg\"/>"
      ],
      "text/plain": [
       "<IPython.core.display.Image object>"
      ]
     },
     "metadata": {},
     "output_type": "display_data"
    },
    {
     "name": "stdout",
     "output_type": "stream",
     "text": [
      "LC81140552015123LGN01\n"
     ]
    },
    {
     "data": {
      "text/html": [
       "<img src=\"https://earthexplorer.usgs.gov/browse/landsat_8/2015/114/055/LC08_L1TP_114055_20150503_20170409_01_T1.jpg\"/>"
      ],
      "text/plain": [
       "<IPython.core.display.Image object>"
      ]
     },
     "metadata": {},
     "output_type": "display_data"
    },
    {
     "name": "stdout",
     "output_type": "stream",
     "text": [
      "LC81140552015235LGN01\n"
     ]
    },
    {
     "data": {
      "text/html": [
       "<img src=\"https://earthexplorer.usgs.gov/browse/landsat_8/2015/114/055/LC08_L1TP_114055_20150823_20170405_01_T1.jpg\"/>"
      ],
      "text/plain": [
       "<IPython.core.display.Image object>"
      ]
     },
     "metadata": {},
     "output_type": "display_data"
    },
    {
     "name": "stdout",
     "output_type": "stream",
     "text": [
      "LC81140552015203LGN01\n"
     ]
    },
    {
     "data": {
      "text/html": [
       "<img src=\"https://earthexplorer.usgs.gov/browse/landsat_8/2015/114/055/LC08_L1TP_114055_20150722_20170406_01_T1.jpg\"/>"
      ],
      "text/plain": [
       "<IPython.core.display.Image object>"
      ]
     },
     "metadata": {},
     "output_type": "display_data"
    },
    {
     "name": "stdout",
     "output_type": "stream",
     "text": [
      "LC81140552015187LGN01\n"
     ]
    },
    {
     "data": {
      "text/html": [
       "<img src=\"https://earthexplorer.usgs.gov/browse/landsat_8/2015/114/055/LC08_L1TP_114055_20150706_20170407_01_T1.jpg\"/>"
      ],
      "text/plain": [
       "<IPython.core.display.Image object>"
      ]
     },
     "metadata": {},
     "output_type": "display_data"
    },
    {
     "name": "stdout",
     "output_type": "stream",
     "text": [
      "LC81140552015251LGN01\n"
     ]
    },
    {
     "data": {
      "text/html": [
       "<img src=\"https://earthexplorer.usgs.gov/browse/landsat_8/2015/114/055/LC08_L1TP_114055_20150908_20170404_01_T1.jpg\"/>"
      ],
      "text/plain": [
       "<IPython.core.display.Image object>"
      ]
     },
     "metadata": {},
     "output_type": "display_data"
    },
    {
     "name": "stdout",
     "output_type": "stream",
     "text": [
      "LC81140552015267LGN01\n"
     ]
    },
    {
     "data": {
      "text/html": [
       "<img src=\"https://earthexplorer.usgs.gov/browse/landsat_8/2015/114/055/LC08_L1TP_114055_20150924_20170403_01_T1.jpg\"/>"
      ],
      "text/plain": [
       "<IPython.core.display.Image object>"
      ]
     },
     "metadata": {},
     "output_type": "display_data"
    },
    {
     "name": "stdout",
     "output_type": "stream",
     "text": [
      "LC81140552015347LGN01\n"
     ]
    },
    {
     "data": {
      "text/html": [
       "<img src=\"https://earthexplorer.usgs.gov/browse/landsat_8/2015/114/055/LC08_L1TP_114055_20151213_20170401_01_T1.jpg\"/>"
      ],
      "text/plain": [
       "<IPython.core.display.Image object>"
      ]
     },
     "metadata": {},
     "output_type": "display_data"
    },
    {
     "name": "stdout",
     "output_type": "stream",
     "text": [
      "LC81140552015315LGN01\n"
     ]
    },
    {
     "data": {
      "text/html": [
       "<img src=\"https://earthexplorer.usgs.gov/browse/landsat_8/2015/114/055/LC08_L1TP_114055_20151111_20170402_01_T1.jpg\"/>"
      ],
      "text/plain": [
       "<IPython.core.display.Image object>"
      ]
     },
     "metadata": {},
     "output_type": "display_data"
    },
    {
     "name": "stdout",
     "output_type": "stream",
     "text": [
      "LC81140552015331LGN02\n"
     ]
    },
    {
     "data": {
      "text/html": [
       "<img src=\"https://earthexplorer.usgs.gov/browse/landsat_8/2015/114/055/LC08_L1TP_114055_20151127_20170401_01_T1.jpg\"/>"
      ],
      "text/plain": [
       "<IPython.core.display.Image object>"
      ]
     },
     "metadata": {},
     "output_type": "display_data"
    },
    {
     "name": "stdout",
     "output_type": "stream",
     "text": [
      "LC81140552015299LGN01\n"
     ]
    },
    {
     "data": {
      "text/html": [
       "<img src=\"https://earthexplorer.usgs.gov/browse/landsat_8/2015/114/055/LC08_L1TP_114055_20151026_20170402_01_T1.jpg\"/>"
      ],
      "text/plain": [
       "<IPython.core.display.Image object>"
      ]
     },
     "metadata": {},
     "output_type": "display_data"
    },
    {
     "name": "stdout",
     "output_type": "stream",
     "text": [
      "LC81140552015283LGN01\n"
     ]
    },
    {
     "data": {
      "text/html": [
       "<img src=\"https://earthexplorer.usgs.gov/browse/landsat_8/2015/114/055/LC08_L1TP_114055_20151010_20170403_01_T1.jpg\"/>"
      ],
      "text/plain": [
       "<IPython.core.display.Image object>"
      ]
     },
     "metadata": {},
     "output_type": "display_data"
    },
    {
     "name": "stdout",
     "output_type": "stream",
     "text": [
      "LC81140552016078LGN01\n"
     ]
    },
    {
     "data": {
      "text/html": [
       "<img src=\"https://earthexplorer.usgs.gov/browse/landsat_8/2016/114/055/LC08_L1TP_114055_20160318_20170328_01_T1.jpg\"/>"
      ],
      "text/plain": [
       "<IPython.core.display.Image object>"
      ]
     },
     "metadata": {},
     "output_type": "display_data"
    },
    {
     "name": "stdout",
     "output_type": "stream",
     "text": [
      "LC81140552016030LGN01\n"
     ]
    },
    {
     "data": {
      "text/html": [
       "<img src=\"https://earthexplorer.usgs.gov/browse/landsat_8/2016/114/055/LC08_L1TP_114055_20160130_20170330_01_T1.jpg\"/>"
      ],
      "text/plain": [
       "<IPython.core.display.Image object>"
      ]
     },
     "metadata": {},
     "output_type": "display_data"
    },
    {
     "name": "stdout",
     "output_type": "stream",
     "text": [
      "LC81140552016062LGN01\n"
     ]
    },
    {
     "data": {
      "text/html": [
       "<img src=\"https://earthexplorer.usgs.gov/browse/landsat_8/2016/114/055/LC08_L1TP_114055_20160302_20170328_01_T1.jpg\"/>"
      ],
      "text/plain": [
       "<IPython.core.display.Image object>"
      ]
     },
     "metadata": {},
     "output_type": "display_data"
    },
    {
     "name": "stdout",
     "output_type": "stream",
     "text": [
      "LC81140552016046LGN01\n"
     ]
    },
    {
     "data": {
      "text/html": [
       "<img src=\"https://earthexplorer.usgs.gov/browse/landsat_8/2016/114/055/LC08_L1TP_114055_20160215_20170329_01_T1.jpg\"/>"
      ],
      "text/plain": [
       "<IPython.core.display.Image object>"
      ]
     },
     "metadata": {},
     "output_type": "display_data"
    },
    {
     "name": "stdout",
     "output_type": "stream",
     "text": [
      "LC81140552016014LGN02\n"
     ]
    },
    {
     "data": {
      "text/html": [
       "<img src=\"https://earthexplorer.usgs.gov/browse/landsat_8/2016/114/055/LC08_L1TP_114055_20160114_20170405_01_T1.jpg\"/>"
      ],
      "text/plain": [
       "<IPython.core.display.Image object>"
      ]
     },
     "metadata": {},
     "output_type": "display_data"
    },
    {
     "name": "stdout",
     "output_type": "stream",
     "text": [
      "LC81140552016142LGN01\n"
     ]
    },
    {
     "data": {
      "text/html": [
       "<img src=\"https://earthexplorer.usgs.gov/browse/landsat_8/2016/114/055/LC08_L1TP_114055_20160521_20170324_01_T1.jpg\"/>"
      ],
      "text/plain": [
       "<IPython.core.display.Image object>"
      ]
     },
     "metadata": {},
     "output_type": "display_data"
    },
    {
     "name": "stdout",
     "output_type": "stream",
     "text": [
      "LC81140552016110LGN01\n"
     ]
    },
    {
     "data": {
      "text/html": [
       "<img src=\"https://earthexplorer.usgs.gov/browse/landsat_8/2016/114/055/LC08_L1TP_114055_20160419_20170326_01_T1.jpg\"/>"
      ],
      "text/plain": [
       "<IPython.core.display.Image object>"
      ]
     },
     "metadata": {},
     "output_type": "display_data"
    },
    {
     "name": "stdout",
     "output_type": "stream",
     "text": [
      "LC81140552016094LGN01\n"
     ]
    },
    {
     "data": {
      "text/html": [
       "<img src=\"https://earthexplorer.usgs.gov/browse/landsat_8/2016/114/055/LC08_L1TP_114055_20160403_20170327_01_T1.jpg\"/>"
      ],
      "text/plain": [
       "<IPython.core.display.Image object>"
      ]
     },
     "metadata": {},
     "output_type": "display_data"
    },
    {
     "name": "stdout",
     "output_type": "stream",
     "text": [
      "LC81140552016126LGN01\n"
     ]
    },
    {
     "data": {
      "text/html": [
       "<img src=\"https://earthexplorer.usgs.gov/browse/landsat_8/2016/114/055/LC08_L1TP_114055_20160505_20170325_01_T1.jpg\"/>"
      ],
      "text/plain": [
       "<IPython.core.display.Image object>"
      ]
     },
     "metadata": {},
     "output_type": "display_data"
    },
    {
     "name": "stdout",
     "output_type": "stream",
     "text": [
      "LC81140552016158LGN01\n"
     ]
    },
    {
     "data": {
      "text/html": [
       "<img src=\"https://earthexplorer.usgs.gov/browse/landsat_8/2016/114/055/LC08_L1TP_114055_20160606_20170324_01_T1.jpg\"/>"
      ],
      "text/plain": [
       "<IPython.core.display.Image object>"
      ]
     },
     "metadata": {},
     "output_type": "display_data"
    },
    {
     "name": "stdout",
     "output_type": "stream",
     "text": [
      "LC81140552016190LGN01\n"
     ]
    },
    {
     "data": {
      "text/html": [
       "<img src=\"https://earthexplorer.usgs.gov/browse/landsat_8/2016/114/055/LC08_L1TP_114055_20160708_20170323_01_T1.jpg\"/>"
      ],
      "text/plain": [
       "<IPython.core.display.Image object>"
      ]
     },
     "metadata": {},
     "output_type": "display_data"
    },
    {
     "name": "stdout",
     "output_type": "stream",
     "text": [
      "LC81140552016270LGN02\n"
     ]
    },
    {
     "data": {
      "text/html": [
       "<img src=\"https://earthexplorer.usgs.gov/browse/landsat_8/2016/114/055/LC08_L1TP_114055_20160926_20170319_01_T1.jpg\"/>"
      ],
      "text/plain": [
       "<IPython.core.display.Image object>"
      ]
     },
     "metadata": {},
     "output_type": "display_data"
    },
    {
     "name": "stdout",
     "output_type": "stream",
     "text": [
      "LC81140552016238LGN01\n"
     ]
    },
    {
     "data": {
      "text/html": [
       "<img src=\"https://earthexplorer.usgs.gov/browse/landsat_8/2016/114/055/LC08_L1TP_114055_20160825_20170322_01_T1.jpg\"/>"
      ],
      "text/plain": [
       "<IPython.core.display.Image object>"
      ]
     },
     "metadata": {},
     "output_type": "display_data"
    },
    {
     "name": "stdout",
     "output_type": "stream",
     "text": [
      "LC81140552016222LGN01\n"
     ]
    },
    {
     "data": {
      "text/html": [
       "<img src=\"https://earthexplorer.usgs.gov/browse/landsat_8/2016/114/055/LC08_L1TP_114055_20160809_20170322_01_T1.jpg\"/>"
      ],
      "text/plain": [
       "<IPython.core.display.Image object>"
      ]
     },
     "metadata": {},
     "output_type": "display_data"
    },
    {
     "name": "stdout",
     "output_type": "stream",
     "text": [
      "LC81140552016206LGN01\n"
     ]
    },
    {
     "data": {
      "text/html": [
       "<img src=\"https://earthexplorer.usgs.gov/browse/landsat_8/2016/114/055/LC08_L1TP_114055_20160724_20170322_01_T1.jpg\"/>"
      ],
      "text/plain": [
       "<IPython.core.display.Image object>"
      ]
     },
     "metadata": {},
     "output_type": "display_data"
    },
    {
     "name": "stdout",
     "output_type": "stream",
     "text": [
      "LC81140552016318LGN01\n"
     ]
    },
    {
     "data": {
      "text/html": [
       "<img src=\"https://earthexplorer.usgs.gov/browse/landsat_8/2016/114/055/LC08_L1TP_114055_20161113_20170318_01_T1.jpg\"/>"
      ],
      "text/plain": [
       "<IPython.core.display.Image object>"
      ]
     },
     "metadata": {},
     "output_type": "display_data"
    },
    {
     "name": "stdout",
     "output_type": "stream",
     "text": [
      "LC81140552016366LGN01\n"
     ]
    },
    {
     "data": {
      "text/html": [
       "<img src=\"https://earthexplorer.usgs.gov/browse/landsat_8/2016/114/055/LC08_L1TP_114055_20161231_20170314_01_T1.jpg\"/>"
      ],
      "text/plain": [
       "<IPython.core.display.Image object>"
      ]
     },
     "metadata": {},
     "output_type": "display_data"
    },
    {
     "name": "stdout",
     "output_type": "stream",
     "text": [
      "LC81140552016334LGN01\n"
     ]
    },
    {
     "data": {
      "text/html": [
       "<img src=\"https://earthexplorer.usgs.gov/browse/landsat_8/2016/114/055/LC08_L1TP_114055_20161129_20170317_01_T1.jpg\"/>"
      ],
      "text/plain": [
       "<IPython.core.display.Image object>"
      ]
     },
     "metadata": {},
     "output_type": "display_data"
    },
    {
     "name": "stdout",
     "output_type": "stream",
     "text": [
      "LC81140552016350LGN01\n"
     ]
    },
    {
     "data": {
      "text/html": [
       "<img src=\"https://earthexplorer.usgs.gov/browse/landsat_8/2016/114/055/LC08_L1TP_114055_20161215_20170316_01_T1.jpg\"/>"
      ],
      "text/plain": [
       "<IPython.core.display.Image object>"
      ]
     },
     "metadata": {},
     "output_type": "display_data"
    },
    {
     "name": "stdout",
     "output_type": "stream",
     "text": [
      "LC81140552016286LGN01\n"
     ]
    },
    {
     "data": {
      "text/html": [
       "<img src=\"https://earthexplorer.usgs.gov/browse/landsat_8/2016/114/055/LC08_L1TP_114055_20161012_20170319_01_T1.jpg\"/>"
      ],
      "text/plain": [
       "<IPython.core.display.Image object>"
      ]
     },
     "metadata": {},
     "output_type": "display_data"
    },
    {
     "name": "stdout",
     "output_type": "stream",
     "text": [
      "LC81140552017032LGN00\n"
     ]
    },
    {
     "data": {
      "text/html": [
       "<img src=\"https://earthexplorer.usgs.gov/browse/landsat_8/2017/114/055/LC08_L1TP_114055_20170201_20170215_01_T1.jpg\"/>"
      ],
      "text/plain": [
       "<IPython.core.display.Image object>"
      ]
     },
     "metadata": {},
     "output_type": "display_data"
    },
    {
     "name": "stdout",
     "output_type": "stream",
     "text": [
      "LC81140552017080LGN00\n"
     ]
    },
    {
     "data": {
      "text/html": [
       "<img src=\"https://earthexplorer.usgs.gov/browse/landsat_8/2017/114/055/LC08_L1TP_114055_20170321_20170328_01_T1.jpg\"/>"
      ],
      "text/plain": [
       "<IPython.core.display.Image object>"
      ]
     },
     "metadata": {},
     "output_type": "display_data"
    },
    {
     "name": "stdout",
     "output_type": "stream",
     "text": [
      "LC81140552017064LGN00\n"
     ]
    },
    {
     "data": {
      "text/html": [
       "<img src=\"https://earthexplorer.usgs.gov/browse/landsat_8/2017/114/055/LC08_L1TP_114055_20170305_20170316_01_T1.jpg\"/>"
      ],
      "text/plain": [
       "<IPython.core.display.Image object>"
      ]
     },
     "metadata": {},
     "output_type": "display_data"
    },
    {
     "name": "stdout",
     "output_type": "stream",
     "text": [
      "LC81140552017048LGN00\n"
     ]
    },
    {
     "data": {
      "text/html": [
       "<img src=\"https://earthexplorer.usgs.gov/browse/landsat_8/2017/114/055/LC08_L1TP_114055_20170217_20170228_01_T1.jpg\"/>"
      ],
      "text/plain": [
       "<IPython.core.display.Image object>"
      ]
     },
     "metadata": {},
     "output_type": "display_data"
    },
    {
     "name": "stdout",
     "output_type": "stream",
     "text": [
      "LC81140552017016LGN01\n"
     ]
    },
    {
     "data": {
      "text/html": [
       "<img src=\"https://earthexplorer.usgs.gov/browse/landsat_8/2017/114/055/LC08_L1TP_114055_20170116_20170311_01_T1.jpg\"/>"
      ],
      "text/plain": [
       "<IPython.core.display.Image object>"
      ]
     },
     "metadata": {},
     "output_type": "display_data"
    },
    {
     "name": "stdout",
     "output_type": "stream",
     "text": [
      "LC81140552017112LGN00\n"
     ]
    },
    {
     "data": {
      "text/html": [
       "<img src=\"https://earthexplorer.usgs.gov/browse/landsat_8/2017/114/055/LC08_L1TP_114055_20170422_20170501_01_T1.jpg\"/>"
      ],
      "text/plain": [
       "<IPython.core.display.Image object>"
      ]
     },
     "metadata": {},
     "output_type": "display_data"
    },
    {
     "name": "stdout",
     "output_type": "stream",
     "text": [
      "LC81140552017096LGN00\n"
     ]
    },
    {
     "data": {
      "text/html": [
       "<img src=\"https://earthexplorer.usgs.gov/browse/landsat_8/2017/114/055/LC08_L1TP_114055_20170406_20170414_01_T1.jpg\"/>"
      ],
      "text/plain": [
       "<IPython.core.display.Image object>"
      ]
     },
     "metadata": {},
     "output_type": "display_data"
    },
    {
     "name": "stdout",
     "output_type": "stream",
     "text": [
      "LC81140552017144LGN00\n"
     ]
    },
    {
     "data": {
      "text/html": [
       "<img src=\"https://earthexplorer.usgs.gov/browse/landsat_8/2017/114/055/LC08_L1TP_114055_20170524_20170526_01_T1.jpg\"/>"
      ],
      "text/plain": [
       "<IPython.core.display.Image object>"
      ]
     },
     "metadata": {},
     "output_type": "display_data"
    },
    {
     "name": "stdout",
     "output_type": "stream",
     "text": [
      "LC81140552017176LGN00\n"
     ]
    },
    {
     "data": {
      "text/html": [
       "<img src=\"https://earthexplorer.usgs.gov/browse/landsat_8/2017/114/055/LC08_L1TP_114055_20170625_20170713_01_T1.jpg\"/>"
      ],
      "text/plain": [
       "<IPython.core.display.Image object>"
      ]
     },
     "metadata": {},
     "output_type": "display_data"
    },
    {
     "name": "stdout",
     "output_type": "stream",
     "text": [
      "LC81140552017160LGN00\n"
     ]
    },
    {
     "data": {
      "text/html": [
       "<img src=\"https://earthexplorer.usgs.gov/browse/landsat_8/2017/114/055/LC08_L1TP_114055_20170609_20170616_01_T1.jpg\"/>"
      ],
      "text/plain": [
       "<IPython.core.display.Image object>"
      ]
     },
     "metadata": {},
     "output_type": "display_data"
    },
    {
     "name": "stdout",
     "output_type": "stream",
     "text": [
      "LC81140552017208LGN00\n"
     ]
    },
    {
     "data": {
      "text/html": [
       "<img src=\"https://earthexplorer.usgs.gov/browse/landsat_8/2017/114/055/LC08_L1TP_114055_20170727_20170810_01_T1.jpg\"/>"
      ],
      "text/plain": [
       "<IPython.core.display.Image object>"
      ]
     },
     "metadata": {},
     "output_type": "display_data"
    },
    {
     "name": "stdout",
     "output_type": "stream",
     "text": [
      "LC81140552017272LGN00\n"
     ]
    },
    {
     "data": {
      "text/html": [
       "<img src=\"https://earthexplorer.usgs.gov/browse/landsat_8/2017/114/055/LC08_L1TP_114055_20170929_20171013_01_T1.jpg\"/>"
      ],
      "text/plain": [
       "<IPython.core.display.Image object>"
      ]
     },
     "metadata": {},
     "output_type": "display_data"
    },
    {
     "name": "stdout",
     "output_type": "stream",
     "text": [
      "LC81140552017240LGN00\n"
     ]
    },
    {
     "data": {
      "text/html": [
       "<img src=\"https://earthexplorer.usgs.gov/browse/landsat_8/2017/114/055/LC08_L1TP_114055_20170828_20170914_01_T1.jpg\"/>"
      ],
      "text/plain": [
       "<IPython.core.display.Image object>"
      ]
     },
     "metadata": {},
     "output_type": "display_data"
    },
    {
     "name": "stdout",
     "output_type": "stream",
     "text": [
      "LC81140552017224LGN00\n"
     ]
    },
    {
     "data": {
      "text/html": [
       "<img src=\"https://earthexplorer.usgs.gov/browse/landsat_8/2017/114/055/LC08_L1TP_114055_20170812_20170824_01_T1.jpg\"/>"
      ],
      "text/plain": [
       "<IPython.core.display.Image object>"
      ]
     },
     "metadata": {},
     "output_type": "display_data"
    },
    {
     "name": "stdout",
     "output_type": "stream",
     "text": [
      "LC81140552017192LGN00\n"
     ]
    },
    {
     "data": {
      "text/html": [
       "<img src=\"https://earthexplorer.usgs.gov/browse/landsat_8/2017/114/055/LC08_L1TP_114055_20170711_20170725_01_T1.jpg\"/>"
      ],
      "text/plain": [
       "<IPython.core.display.Image object>"
      ]
     },
     "metadata": {},
     "output_type": "display_data"
    },
    {
     "name": "stdout",
     "output_type": "stream",
     "text": [
      "LC81140552017304LGN00\n"
     ]
    },
    {
     "data": {
      "text/html": [
       "<img src=\"https://earthexplorer.usgs.gov/browse/landsat_8/2017/114/055/LC08_L1TP_114055_20171031_20171109_01_T1.jpg\"/>"
      ],
      "text/plain": [
       "<IPython.core.display.Image object>"
      ]
     },
     "metadata": {},
     "output_type": "display_data"
    },
    {
     "name": "stdout",
     "output_type": "stream",
     "text": [
      "LC81140552017320LGN00\n"
     ]
    },
    {
     "data": {
      "text/html": [
       "<img src=\"https://earthexplorer.usgs.gov/browse/landsat_8/2017/114/055/LC08_L1GT_114055_20171116_20171122_01_T2.jpg\"/>"
      ],
      "text/plain": [
       "<IPython.core.display.Image object>"
      ]
     },
     "metadata": {},
     "output_type": "display_data"
    },
    {
     "name": "stdout",
     "output_type": "stream",
     "text": [
      "LC81140552017288LGN00\n"
     ]
    },
    {
     "data": {
      "text/html": [
       "<img src=\"https://earthexplorer.usgs.gov/browse/landsat_8/2017/114/055/LC08_L1GT_114055_20171015_20171024_01_T2.jpg\"/>"
      ],
      "text/plain": [
       "<IPython.core.display.Image object>"
      ]
     },
     "metadata": {},
     "output_type": "display_data"
    }
   ],
   "source": [
    "from IPython.display import Image, display\n",
    "\n",
    "for preview_image in download_df[['sceneID', 'browseURL']].values:\n",
    "    print(preview_image[0])\n",
    "    display(Image(url=preview_image[1]))"
   ]
  }
 ],
 "metadata": {
  "kernelspec": {
   "display_name": "Python 3",
   "language": "python",
   "name": "python3"
  },
  "language_info": {
   "codemirror_mode": {
    "name": "ipython",
    "version": 3
   },
   "file_extension": ".py",
   "mimetype": "text/x-python",
   "name": "python",
   "nbconvert_exporter": "python",
   "pygments_lexer": "ipython3",
   "version": "3.6.2"
  }
 },
 "nbformat": 4,
 "nbformat_minor": 2
}
