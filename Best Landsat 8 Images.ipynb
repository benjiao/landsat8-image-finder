{
 "cells": [
  {
   "cell_type": "markdown",
   "metadata": {},
   "source": [
    "# The Best Landsat 8 Images\n",
    "\n",
    "\n",
    "For a school project, I needed multiple landsat 8 images for each quarter of a year on four specific WRS-2 path-rows. This notebook is an attempt at determining the best landsat 8 scenes to download for my use case.\n",
    "\n",
    "I determined the path-rows that i need from https://landsat.usgs.gov/pathrow-shapefiles. I only needed the \"Descending only\" WRS-2 dataset as these are the daylight passes of landsat8.\n",
    "\n",
    "\n",
    "\n",
    "\n",
    "For now, I'll use cloudcover as a selection criteria."
   ]
  },
  {
   "cell_type": "code",
   "execution_count": 1,
   "metadata": {
    "collapsed": true
   },
   "outputs": [],
   "source": [
    "PATH_ROWS = [\n",
    "    [114, 55]\n",
    "]"
   ]
  },
  {
   "cell_type": "markdown",
   "metadata": {},
   "source": [
    "### I. Install some dependencies..."
   ]
  },
  {
   "cell_type": "code",
   "execution_count": 2,
   "metadata": {},
   "outputs": [
    {
     "name": "stdout",
     "output_type": "stream",
     "text": [
      "Fetching package metadata ...........\n",
      "Solving package specifications: .\n",
      "\n",
      "# All requested packages already installed.\n",
      "# packages in environment at /home/benjiao/anaconda3/envs/landsat-scene-selector:\n",
      "#\n",
      "pandas                    0.21.0           py36h78bd809_1  \n"
     ]
    }
   ],
   "source": [
    "! conda install pandas -y"
   ]
  },
  {
   "cell_type": "markdown",
   "metadata": {},
   "source": [
    "### II. Import dependencies"
   ]
  },
  {
   "cell_type": "code",
   "execution_count": 3,
   "metadata": {
    "collapsed": true
   },
   "outputs": [],
   "source": [
    "import pandas\n",
    "pandas.set_option('display.max_colwidth', -1)\n",
    "\n",
    "# Show matplot stuff inline\n",
    "%matplotlib inline"
   ]
  },
  {
   "cell_type": "markdown",
   "metadata": {},
   "source": [
    "### III. Read Landsat8 Catalog\n",
    "\n",
    "This was downloaded from https://landsat.usgs.gov/download-entire-collection-metadata. (Almost 1 GB)"
   ]
  },
  {
   "cell_type": "code",
   "execution_count": 4,
   "metadata": {},
   "outputs": [
    {
     "data": {
      "text/html": [
       "<div>\n",
       "<style>\n",
       "    .dataframe thead tr:only-child th {\n",
       "        text-align: right;\n",
       "    }\n",
       "\n",
       "    .dataframe thead th {\n",
       "        text-align: left;\n",
       "    }\n",
       "\n",
       "    .dataframe tbody tr th {\n",
       "        vertical-align: top;\n",
       "    }\n",
       "</style>\n",
       "<table border=\"1\" class=\"dataframe\">\n",
       "  <thead>\n",
       "    <tr style=\"text-align: right;\">\n",
       "      <th></th>\n",
       "      <th>browseAvailable</th>\n",
       "      <th>browseURL</th>\n",
       "      <th>sceneID</th>\n",
       "      <th>LANDSAT_PRODUCT_ID</th>\n",
       "      <th>sensor</th>\n",
       "      <th>acquisitionDate</th>\n",
       "      <th>dateUpdated</th>\n",
       "      <th>path</th>\n",
       "      <th>row</th>\n",
       "      <th>upperLeftCornerLatitude</th>\n",
       "      <th>...</th>\n",
       "      <th>GRID_CELL_SIZE_PANCHROMATIC</th>\n",
       "      <th>GRID_CELL_SIZE_THERMAL</th>\n",
       "      <th>ORIENTATION</th>\n",
       "      <th>PANCHROMATIC_LINES</th>\n",
       "      <th>PANCHROMATIC_SAMPLES</th>\n",
       "      <th>REFLECTIVE_LINES</th>\n",
       "      <th>REFLECTIVE_SAMPLES</th>\n",
       "      <th>RESAMPLING_OPTION</th>\n",
       "      <th>THERMAL_LINES</th>\n",
       "      <th>THERMAL_SAMPLES</th>\n",
       "    </tr>\n",
       "  </thead>\n",
       "  <tbody>\n",
       "    <tr>\n",
       "      <th>0</th>\n",
       "      <td>Y</td>\n",
       "      <td>https://earthexplorer.usgs.gov/browse/landsat_8/2017/204/197/LC08_L1GT_204197_20171122_20171122_01_RT.jpg</td>\n",
       "      <td>LC82041972017326LGN00</td>\n",
       "      <td>LC08_L1GT_204197_20171122_20171122_01_RT</td>\n",
       "      <td>OLI_TIRS</td>\n",
       "      <td>2017-11-22</td>\n",
       "      <td>2017-11-22</td>\n",
       "      <td>204</td>\n",
       "      <td>197</td>\n",
       "      <td>18.10451</td>\n",
       "      <td>...</td>\n",
       "      <td>15</td>\n",
       "      <td>30</td>\n",
       "      <td>NORTH_UP</td>\n",
       "      <td>15421</td>\n",
       "      <td>15101</td>\n",
       "      <td>7711</td>\n",
       "      <td>7551</td>\n",
       "      <td>CUBIC_CONVOLUTION</td>\n",
       "      <td>7711</td>\n",
       "      <td>7551</td>\n",
       "    </tr>\n",
       "    <tr>\n",
       "      <th>1</th>\n",
       "      <td>Y</td>\n",
       "      <td>https://earthexplorer.usgs.gov/browse/landsat_8/2017/204/196/LC08_L1GT_204196_20171122_20171122_01_RT.jpg</td>\n",
       "      <td>LC82041962017326LGN00</td>\n",
       "      <td>LC08_L1GT_204196_20171122_20171122_01_RT</td>\n",
       "      <td>OLI_TIRS</td>\n",
       "      <td>2017-11-22</td>\n",
       "      <td>2017-11-22</td>\n",
       "      <td>204</td>\n",
       "      <td>196</td>\n",
       "      <td>16.66097</td>\n",
       "      <td>...</td>\n",
       "      <td>15</td>\n",
       "      <td>30</td>\n",
       "      <td>NORTH_UP</td>\n",
       "      <td>15441</td>\n",
       "      <td>15121</td>\n",
       "      <td>7721</td>\n",
       "      <td>7561</td>\n",
       "      <td>CUBIC_CONVOLUTION</td>\n",
       "      <td>7721</td>\n",
       "      <td>7561</td>\n",
       "    </tr>\n",
       "    <tr>\n",
       "      <th>2</th>\n",
       "      <td>Y</td>\n",
       "      <td>https://earthexplorer.usgs.gov/browse/landsat_8/2017/204/052/LC08_L1TP_204052_20171122_20171122_01_RT.jpg</td>\n",
       "      <td>LC82040522017326LGN00</td>\n",
       "      <td>LC08_L1TP_204052_20171122_20171122_01_RT</td>\n",
       "      <td>OLI_TIRS</td>\n",
       "      <td>2017-11-22</td>\n",
       "      <td>2017-11-22</td>\n",
       "      <td>204</td>\n",
       "      <td>52</td>\n",
       "      <td>12.61258</td>\n",
       "      <td>...</td>\n",
       "      <td>15</td>\n",
       "      <td>30</td>\n",
       "      <td>NORTH_UP</td>\n",
       "      <td>15521</td>\n",
       "      <td>15201</td>\n",
       "      <td>7761</td>\n",
       "      <td>7601</td>\n",
       "      <td>CUBIC_CONVOLUTION</td>\n",
       "      <td>7761</td>\n",
       "      <td>7601</td>\n",
       "    </tr>\n",
       "    <tr>\n",
       "      <th>3</th>\n",
       "      <td>Y</td>\n",
       "      <td>https://earthexplorer.usgs.gov/browse/landsat_8/2017/204/051/LC08_L1TP_204051_20171122_20171122_01_RT.jpg</td>\n",
       "      <td>LC82040512017326LGN00</td>\n",
       "      <td>LC08_L1TP_204051_20171122_20171122_01_RT</td>\n",
       "      <td>OLI_TIRS</td>\n",
       "      <td>2017-11-22</td>\n",
       "      <td>2017-11-22</td>\n",
       "      <td>204</td>\n",
       "      <td>51</td>\n",
       "      <td>14.05751</td>\n",
       "      <td>...</td>\n",
       "      <td>15</td>\n",
       "      <td>30</td>\n",
       "      <td>NORTH_UP</td>\n",
       "      <td>15521</td>\n",
       "      <td>15181</td>\n",
       "      <td>7761</td>\n",
       "      <td>7591</td>\n",
       "      <td>CUBIC_CONVOLUTION</td>\n",
       "      <td>7761</td>\n",
       "      <td>7591</td>\n",
       "    </tr>\n",
       "    <tr>\n",
       "      <th>4</th>\n",
       "      <td>Y</td>\n",
       "      <td>https://earthexplorer.usgs.gov/browse/landsat_8/2017/204/050/LC08_L1TP_204050_20171122_20171122_01_RT.jpg</td>\n",
       "      <td>LC82040502017326LGN00</td>\n",
       "      <td>LC08_L1TP_204050_20171122_20171122_01_RT</td>\n",
       "      <td>OLI_TIRS</td>\n",
       "      <td>2017-11-22</td>\n",
       "      <td>2017-11-22</td>\n",
       "      <td>204</td>\n",
       "      <td>50</td>\n",
       "      <td>15.50187</td>\n",
       "      <td>...</td>\n",
       "      <td>15</td>\n",
       "      <td>30</td>\n",
       "      <td>NORTH_UP</td>\n",
       "      <td>15521</td>\n",
       "      <td>15181</td>\n",
       "      <td>7761</td>\n",
       "      <td>7591</td>\n",
       "      <td>CUBIC_CONVOLUTION</td>\n",
       "      <td>7761</td>\n",
       "      <td>7591</td>\n",
       "    </tr>\n",
       "  </tbody>\n",
       "</table>\n",
       "<p>5 rows × 62 columns</p>\n",
       "</div>"
      ],
      "text/plain": [
       "  browseAvailable  \\\n",
       "0  Y                \n",
       "1  Y                \n",
       "2  Y                \n",
       "3  Y                \n",
       "4  Y                \n",
       "\n",
       "                                                                                                   browseURL  \\\n",
       "0  https://earthexplorer.usgs.gov/browse/landsat_8/2017/204/197/LC08_L1GT_204197_20171122_20171122_01_RT.jpg   \n",
       "1  https://earthexplorer.usgs.gov/browse/landsat_8/2017/204/196/LC08_L1GT_204196_20171122_20171122_01_RT.jpg   \n",
       "2  https://earthexplorer.usgs.gov/browse/landsat_8/2017/204/052/LC08_L1TP_204052_20171122_20171122_01_RT.jpg   \n",
       "3  https://earthexplorer.usgs.gov/browse/landsat_8/2017/204/051/LC08_L1TP_204051_20171122_20171122_01_RT.jpg   \n",
       "4  https://earthexplorer.usgs.gov/browse/landsat_8/2017/204/050/LC08_L1TP_204050_20171122_20171122_01_RT.jpg   \n",
       "\n",
       "                 sceneID                        LANDSAT_PRODUCT_ID    sensor  \\\n",
       "0  LC82041972017326LGN00  LC08_L1GT_204197_20171122_20171122_01_RT  OLI_TIRS   \n",
       "1  LC82041962017326LGN00  LC08_L1GT_204196_20171122_20171122_01_RT  OLI_TIRS   \n",
       "2  LC82040522017326LGN00  LC08_L1TP_204052_20171122_20171122_01_RT  OLI_TIRS   \n",
       "3  LC82040512017326LGN00  LC08_L1TP_204051_20171122_20171122_01_RT  OLI_TIRS   \n",
       "4  LC82040502017326LGN00  LC08_L1TP_204050_20171122_20171122_01_RT  OLI_TIRS   \n",
       "\n",
       "  acquisitionDate dateUpdated  path  row  upperLeftCornerLatitude  \\\n",
       "0 2017-11-22       2017-11-22  204   197  18.10451                  \n",
       "1 2017-11-22       2017-11-22  204   196  16.66097                  \n",
       "2 2017-11-22       2017-11-22  204   52   12.61258                  \n",
       "3 2017-11-22       2017-11-22  204   51   14.05751                  \n",
       "4 2017-11-22       2017-11-22  204   50   15.50187                  \n",
       "\n",
       "        ...         GRID_CELL_SIZE_PANCHROMATIC  GRID_CELL_SIZE_THERMAL  \\\n",
       "0       ...         15                           30                       \n",
       "1       ...         15                           30                       \n",
       "2       ...         15                           30                       \n",
       "3       ...         15                           30                       \n",
       "4       ...         15                           30                       \n",
       "\n",
       "   ORIENTATION  PANCHROMATIC_LINES  PANCHROMATIC_SAMPLES  REFLECTIVE_LINES  \\\n",
       "0  NORTH_UP     15421               15101                 7711               \n",
       "1  NORTH_UP     15441               15121                 7721               \n",
       "2  NORTH_UP     15521               15201                 7761               \n",
       "3  NORTH_UP     15521               15181                 7761               \n",
       "4  NORTH_UP     15521               15181                 7761               \n",
       "\n",
       "   REFLECTIVE_SAMPLES  RESAMPLING_OPTION  THERMAL_LINES  THERMAL_SAMPLES  \n",
       "0  7551                CUBIC_CONVOLUTION  7711           7551             \n",
       "1  7561                CUBIC_CONVOLUTION  7721           7561             \n",
       "2  7601                CUBIC_CONVOLUTION  7761           7601             \n",
       "3  7591                CUBIC_CONVOLUTION  7761           7591             \n",
       "4  7591                CUBIC_CONVOLUTION  7761           7591             \n",
       "\n",
       "[5 rows x 62 columns]"
      ]
     },
     "execution_count": 4,
     "metadata": {},
     "output_type": "execute_result"
    }
   ],
   "source": [
    "scenes = pandas.read_csv('landsat8-scenes.csv')\n",
    "\n",
    "# Ensure that datetime values are properly typed\n",
    "scenes[\"acquisitionDate\"] = scenes[\"acquisitionDate\"].astype(\"datetime64[ns]\")\n",
    "\n",
    "scenes.head()"
   ]
  },
  {
   "cell_type": "markdown",
   "metadata": {},
   "source": [
    "### IV. Browse data\n",
    "\n",
    "In this part, we have peek at what our data looks like.\n",
    "\n",
    "##### 1. First, we check what columns are available"
   ]
  },
  {
   "cell_type": "code",
   "execution_count": 5,
   "metadata": {},
   "outputs": [
    {
     "data": {
      "text/plain": [
       "['browseAvailable',\n",
       " 'browseURL',\n",
       " 'sceneID',\n",
       " 'LANDSAT_PRODUCT_ID',\n",
       " 'sensor',\n",
       " 'acquisitionDate',\n",
       " 'dateUpdated',\n",
       " 'path',\n",
       " 'row',\n",
       " 'upperLeftCornerLatitude',\n",
       " 'upperLeftCornerLongitude',\n",
       " 'upperRightCornerLatitude',\n",
       " 'upperRightCornerLongitude',\n",
       " 'lowerLeftCornerLatitude',\n",
       " 'lowerLeftCornerLongitude',\n",
       " 'lowerRightCornerLatitude',\n",
       " 'lowerRightCornerLongitude',\n",
       " 'sceneCenterLatitude',\n",
       " 'sceneCenterLongitude',\n",
       " 'cloudCover',\n",
       " 'cloudCoverFull',\n",
       " 'dayOrNight',\n",
       " 'sunElevation',\n",
       " 'sunAzimuth',\n",
       " 'receivingStation',\n",
       " 'sceneStartTime',\n",
       " 'sceneStopTime',\n",
       " 'imageQuality1',\n",
       " 'DATA_TYPE_L1',\n",
       " 'cartURL',\n",
       " 'ROLL_ANGLE',\n",
       " 'GEOMETRIC_RMSE_MODEL',\n",
       " 'GEOMETRIC_RMSE_MODEL_X',\n",
       " 'GEOMETRIC_RMSE_MODEL_Y',\n",
       " 'FULL_PARTIAL_SCENE',\n",
       " 'NADIR_OFFNADIR',\n",
       " 'PROCESSING_SOFTWARE_VERSION',\n",
       " 'CPF_NAME',\n",
       " 'RLUT_FILE_NAME',\n",
       " 'BPF_NAME_OLI',\n",
       " 'BPF_NAME_TIRS',\n",
       " 'GROUND_CONTROL_POINTS_MODEL',\n",
       " 'GROUND_CONTROL_POINTS_VERSION',\n",
       " 'DATE_L1_GENERATED',\n",
       " 'TIRS_SSM_MODEL',\n",
       " 'COLLECTION_NUMBER',\n",
       " 'COLLECTION_CATEGORY',\n",
       " 'CLOUD_COVER_LAND',\n",
       " 'UTM_ZONE',\n",
       " 'MAP_PROJECTION_L1',\n",
       " 'DATUM',\n",
       " 'GRID_CELL_SIZE_REFLECTIVE',\n",
       " 'GRID_CELL_SIZE_PANCHROMATIC',\n",
       " 'GRID_CELL_SIZE_THERMAL',\n",
       " 'ORIENTATION',\n",
       " 'PANCHROMATIC_LINES',\n",
       " 'PANCHROMATIC_SAMPLES',\n",
       " 'REFLECTIVE_LINES',\n",
       " 'REFLECTIVE_SAMPLES',\n",
       " 'RESAMPLING_OPTION',\n",
       " 'THERMAL_LINES',\n",
       " 'THERMAL_SAMPLES']"
      ]
     },
     "execution_count": 5,
     "metadata": {},
     "output_type": "execute_result"
    }
   ],
   "source": [
    "list(scenes.columns.values)"
   ]
  },
  {
   "cell_type": "code",
   "execution_count": 6,
   "metadata": {
    "collapsed": true
   },
   "outputs": [],
   "source": [
    "columns = [\"sceneID\", \"LANDSAT_PRODUCT_ID\", \"acquisitionDate\", \"cloudCover\", \"cartURL\", \"browseURL\"]"
   ]
  },
  {
   "cell_type": "markdown",
   "metadata": {},
   "source": [
    "##### 2. Let's take a look at the general availability of images by year..."
   ]
  },
  {
   "cell_type": "code",
   "execution_count": 7,
   "metadata": {},
   "outputs": [
    {
     "data": {
      "text/plain": [
       "<matplotlib.axes._subplots.AxesSubplot at 0x7f980c480470>"
      ]
     },
     "execution_count": 7,
     "metadata": {},
     "output_type": "execute_result"
    },
    {
     "data": {
      "image/png": "[encoded data removed]",
      "text/plain": [
       "<matplotlib.figure.Figure at 0x7f980c480748>"
      ]
     },
     "metadata": {},
     "output_type": "display_data"
    }
   ],
   "source": [
    "scenes[\"acquisitionDate\"].groupby(\n",
    "    [scenes[\"acquisitionDate\"].dt.year]).count().plot(kind=\"bar\")"
   ]
  },
  {
   "cell_type": "markdown",
   "metadata": {},
   "source": [
    "### IV. Filter data based on Path-Rows\n",
    "\n",
    "Let's try filtering the data using one of the path-row pairs included in my study area."
   ]
  },
  {
   "cell_type": "code",
   "execution_count": 8,
   "metadata": {},
   "outputs": [
    {
     "name": "stdout",
     "output_type": "stream",
     "text": [
      "103 images found for path-row\n"
     ]
    }
   ],
   "source": [
    "df1 = scenes[(scenes['path'] == 114) & (scenes['row'] == 54)]\n",
    "print(\"{} images found for path-row\".format(df1.shape[0]))"
   ]
  },
  {
   "cell_type": "markdown",
   "metadata": {},
   "source": [
    "##### Plot!"
   ]
  },
  {
   "cell_type": "code",
   "execution_count": 9,
   "metadata": {},
   "outputs": [
    {
     "data": {
      "text/plain": [
       "<matplotlib.axes._subplots.AxesSubplot at 0x7f98373a39e8>"
      ]
     },
     "execution_count": 9,
     "metadata": {},
     "output_type": "execute_result"
    },
    {
     "data": {
      "image/png": "[encoded data removed]",
      "text/plain": [
       "<matplotlib.figure.Figure at 0x7f98081b9d68>"
      ]
     },
     "metadata": {},
     "output_type": "display_data"
    }
   ],
   "source": [
    "df1[\"acquisitionDate\"].groupby(\n",
    "    [df1[\"acquisitionDate\"].dt.year]).count().plot(kind=\"bar\")"
   ]
  },
  {
   "cell_type": "markdown",
   "metadata": {},
   "source": [
    "##### Let's see what the earliest available image is..."
   ]
  },
  {
   "cell_type": "code",
   "execution_count": 10,
   "metadata": {},
   "outputs": [
    {
     "data": {
      "text/plain": [
       "1118780   2013-04-01\n",
       "Name: acquisitionDate, dtype: datetime64[ns]"
      ]
     },
     "execution_count": 10,
     "metadata": {},
     "output_type": "execute_result"
    }
   ],
   "source": [
    "df1['acquisitionDate'][df1['acquisitionDate'] == min(df1['acquisitionDate'])]"
   ]
  },
  {
   "cell_type": "markdown",
   "metadata": {},
   "source": [
    "### Fetch data from Q2 2013\n",
    "\n",
    "As a proof of concept, let's try finding the best image from Q2 2013. Let's also sort them by `cloudCover`"
   ]
  },
  {
   "cell_type": "code",
   "execution_count": 11,
   "metadata": {},
   "outputs": [
    {
     "data": {
      "text/html": [
       "<div>\n",
       "<style>\n",
       "    .dataframe thead tr:only-child th {\n",
       "        text-align: right;\n",
       "    }\n",
       "\n",
       "    .dataframe thead th {\n",
       "        text-align: left;\n",
       "    }\n",
       "\n",
       "    .dataframe tbody tr th {\n",
       "        vertical-align: top;\n",
       "    }\n",
       "</style>\n",
       "<table border=\"1\" class=\"dataframe\">\n",
       "  <thead>\n",
       "    <tr style=\"text-align: right;\">\n",
       "      <th></th>\n",
       "      <th>sceneID</th>\n",
       "      <th>LANDSAT_PRODUCT_ID</th>\n",
       "      <th>acquisitionDate</th>\n",
       "      <th>cloudCover</th>\n",
       "      <th>cartURL</th>\n",
       "      <th>browseURL</th>\n",
       "    </tr>\n",
       "  </thead>\n",
       "  <tbody>\n",
       "    <tr>\n",
       "      <th>1118780</th>\n",
       "      <td>LC81140542013091LGN02</td>\n",
       "      <td>LC08_L1TP_114054_20130401_20170505_01_T1</td>\n",
       "      <td>2013-04-01</td>\n",
       "      <td>0</td>\n",
       "      <td>https://earthexplorer.usgs.gov/order/process?dataset_name=LANDSAT_8_C1&amp;ordered=LC81140542013091LGN02</td>\n",
       "      <td>https://earthexplorer.usgs.gov/browse/landsat_8/2013/114/054/LC08_L1TP_114054_20130401_20170505_01_T1.jpg</td>\n",
       "    </tr>\n",
       "    <tr>\n",
       "      <th>1101984</th>\n",
       "      <td>LC81140542013133LGN02</td>\n",
       "      <td>LC08_L1TP_114054_20130513_20170504_01_T1</td>\n",
       "      <td>2013-05-13</td>\n",
       "      <td>1</td>\n",
       "      <td>https://earthexplorer.usgs.gov/order/process?dataset_name=LANDSAT_8_C1&amp;ordered=LC81140542013133LGN02</td>\n",
       "      <td>https://earthexplorer.usgs.gov/browse/landsat_8/2013/114/054/LC08_L1TP_114054_20130513_20170504_01_T1.jpg</td>\n",
       "    </tr>\n",
       "    <tr>\n",
       "      <th>1114449</th>\n",
       "      <td>LC81140542013101LGN02</td>\n",
       "      <td>LC08_L1TP_114054_20130411_20170505_01_T1</td>\n",
       "      <td>2013-04-11</td>\n",
       "      <td>3</td>\n",
       "      <td>https://earthexplorer.usgs.gov/order/process?dataset_name=LANDSAT_8_C1&amp;ordered=LC81140542013101LGN02</td>\n",
       "      <td>https://earthexplorer.usgs.gov/browse/landsat_8/2013/114/054/LC08_L1TP_114054_20130411_20170505_01_T1.jpg</td>\n",
       "    </tr>\n",
       "    <tr>\n",
       "      <th>1116574</th>\n",
       "      <td>LC81140542013096LGN02</td>\n",
       "      <td>LC08_L1TP_114054_20130406_20170505_01_T1</td>\n",
       "      <td>2013-04-06</td>\n",
       "      <td>3</td>\n",
       "      <td>https://earthexplorer.usgs.gov/order/process?dataset_name=LANDSAT_8_C1&amp;ordered=LC81140542013096LGN02</td>\n",
       "      <td>https://earthexplorer.usgs.gov/browse/landsat_8/2013/114/054/LC08_L1TP_114054_20130406_20170505_01_T1.jpg</td>\n",
       "    </tr>\n",
       "    <tr>\n",
       "      <th>1093135</th>\n",
       "      <td>LC81140542013149LGN01</td>\n",
       "      <td>LC08_L1TP_114054_20130529_20170504_01_T1</td>\n",
       "      <td>2013-05-29</td>\n",
       "      <td>6</td>\n",
       "      <td>https://earthexplorer.usgs.gov/order/process?dataset_name=LANDSAT_8_C1&amp;ordered=LC81140542013149LGN01</td>\n",
       "      <td>https://earthexplorer.usgs.gov/browse/landsat_8/2013/114/054/LC08_L1TP_114054_20130529_20170504_01_T1.jpg</td>\n",
       "    </tr>\n",
       "  </tbody>\n",
       "</table>\n",
       "</div>"
      ],
      "text/plain": [
       "                       sceneID                        LANDSAT_PRODUCT_ID  \\\n",
       "1118780  LC81140542013091LGN02  LC08_L1TP_114054_20130401_20170505_01_T1   \n",
       "1101984  LC81140542013133LGN02  LC08_L1TP_114054_20130513_20170504_01_T1   \n",
       "1114449  LC81140542013101LGN02  LC08_L1TP_114054_20130411_20170505_01_T1   \n",
       "1116574  LC81140542013096LGN02  LC08_L1TP_114054_20130406_20170505_01_T1   \n",
       "1093135  LC81140542013149LGN01  LC08_L1TP_114054_20130529_20170504_01_T1   \n",
       "\n",
       "        acquisitionDate  cloudCover  \\\n",
       "1118780 2013-04-01       0            \n",
       "1101984 2013-05-13       1            \n",
       "1114449 2013-04-11       3            \n",
       "1116574 2013-04-06       3            \n",
       "1093135 2013-05-29       6            \n",
       "\n",
       "                                                                                                      cartURL  \\\n",
       "1118780  https://earthexplorer.usgs.gov/order/process?dataset_name=LANDSAT_8_C1&ordered=LC81140542013091LGN02   \n",
       "1101984  https://earthexplorer.usgs.gov/order/process?dataset_name=LANDSAT_8_C1&ordered=LC81140542013133LGN02   \n",
       "1114449  https://earthexplorer.usgs.gov/order/process?dataset_name=LANDSAT_8_C1&ordered=LC81140542013101LGN02   \n",
       "1116574  https://earthexplorer.usgs.gov/order/process?dataset_name=LANDSAT_8_C1&ordered=LC81140542013096LGN02   \n",
       "1093135  https://earthexplorer.usgs.gov/order/process?dataset_name=LANDSAT_8_C1&ordered=LC81140542013149LGN01   \n",
       "\n",
       "                                                                                                         browseURL  \n",
       "1118780  https://earthexplorer.usgs.gov/browse/landsat_8/2013/114/054/LC08_L1TP_114054_20130401_20170505_01_T1.jpg  \n",
       "1101984  https://earthexplorer.usgs.gov/browse/landsat_8/2013/114/054/LC08_L1TP_114054_20130513_20170504_01_T1.jpg  \n",
       "1114449  https://earthexplorer.usgs.gov/browse/landsat_8/2013/114/054/LC08_L1TP_114054_20130411_20170505_01_T1.jpg  \n",
       "1116574  https://earthexplorer.usgs.gov/browse/landsat_8/2013/114/054/LC08_L1TP_114054_20130406_20170505_01_T1.jpg  \n",
       "1093135  https://earthexplorer.usgs.gov/browse/landsat_8/2013/114/054/LC08_L1TP_114054_20130529_20170504_01_T1.jpg  "
      ]
     },
     "execution_count": 11,
     "metadata": {},
     "output_type": "execute_result"
    }
   ],
   "source": [
    "q2_df = df1[columns][(\n",
    "    (df1['acquisitionDate'].dt.year == 2013) &\n",
    "    (df1['acquisitionDate'].dt.month >= 4) &\n",
    "    (df1['acquisitionDate'].dt.month <= 6)\n",
    ")].sort_values(['cloudCover'])\n",
    "\n",
    "q2_df.head()"
   ]
  },
  {
   "cell_type": "markdown",
   "metadata": {},
   "source": [
    "## V. Run Script on All Path-Rows and on Quarters from 2013 to 2017\n",
    "\n",
    "Now that we know that the filtering works, lets build a list of images from quarters from 2013 to 2017."
   ]
  },
  {
   "cell_type": "code",
   "execution_count": 12,
   "metadata": {
    "scrolled": false
   },
   "outputs": [
    {
     "name": "stdout",
     "output_type": "stream",
     "text": [
      "\n",
      "Path: 114, Row: 55\n",
      "6 images found for 2013-3 to 2013-6\n",
      "3 images found for 2013-9 to 2013-12\n",
      "4 images found for 2014-3 to 2014-6\n",
      "6 images found for 2014-9 to 2014-12\n",
      "5 images found for 2015-3 to 2015-6\n",
      "6 images found for 2015-9 to 2015-12\n",
      "6 images found for 2016-3 to 2016-6\n",
      "6 images found for 2016-9 to 2016-12\n",
      "6 images found for 2017-3 to 2017-6\n",
      "5 images found for 2017-9 to 2017-12\n"
     ]
    }
   ],
   "source": [
    "start_year = 2013\n",
    "end_year = 2017\n",
    "\n",
    "download_list = []\n",
    "\n",
    "for path, row in PATH_ROWS:    \n",
    "    pathrow_df = scenes[(scenes['path'] == path) & (scenes['row'] == row)]\n",
    "\n",
    "    print(\"\\nPath: {}, Row: {}\".format(path, row))\n",
    "    for year in range(2013, end_year + 1):\n",
    "        for start_month in range(3, 12, 6):\n",
    "            filtered_df = pathrow_df[columns][(\n",
    "                (pathrow_df['acquisitionDate'].dt.year == year) &\n",
    "                (pathrow_df['acquisitionDate'].dt.month >= start_month) &\n",
    "                (pathrow_df['acquisitionDate'].dt.month <= start_month + 2)\n",
    "            )].sort_values(['cloudCover'])\n",
    "            \n",
    "            print(\"{count} images found for {year}-{start_month} to {year}-{end_month}\".format(\n",
    "                count=filtered_df.shape[0],\n",
    "                path=path,\n",
    "                row=row,\n",
    "                year=year,\n",
    "                start_month=start_month,\n",
    "                end_month=start_month + 3))\n",
    "            \n",
    "            # Add first item of each group into download_list\n",
    "            if filtered_df.shape[0] != 0:\n",
    "                download_list.append(filtered_df.head(1))"
   ]
  },
  {
   "cell_type": "code",
   "execution_count": 13,
   "metadata": {},
   "outputs": [
    {
     "data": {
      "text/html": [
       "<div>\n",
       "<style>\n",
       "    .dataframe thead tr:only-child th {\n",
       "        text-align: right;\n",
       "    }\n",
       "\n",
       "    .dataframe thead th {\n",
       "        text-align: left;\n",
       "    }\n",
       "\n",
       "    .dataframe tbody tr th {\n",
       "        vertical-align: top;\n",
       "    }\n",
       "</style>\n",
       "<table border=\"1\" class=\"dataframe\">\n",
       "  <thead>\n",
       "    <tr style=\"text-align: right;\">\n",
       "      <th></th>\n",
       "      <th>sceneID</th>\n",
       "      <th>LANDSAT_PRODUCT_ID</th>\n",
       "      <th>acquisitionDate</th>\n",
       "      <th>cloudCover</th>\n",
       "      <th>cartURL</th>\n",
       "      <th>browseURL</th>\n",
       "    </tr>\n",
       "  </thead>\n",
       "  <tbody>\n",
       "    <tr>\n",
       "      <th>1093134</th>\n",
       "      <td>LC81140552013149LGN01</td>\n",
       "      <td>LC08_L1TP_114055_20130529_20170504_01_T1</td>\n",
       "      <td>2013-05-29</td>\n",
       "      <td>2</td>\n",
       "      <td>https://earthexplorer.usgs.gov/order/process?dataset_name=LANDSAT_8_C1&amp;ordered=LC81140552013149LGN01</td>\n",
       "      <td>https://earthexplorer.usgs.gov/browse/landsat_8/2013/114/055/LC08_L1TP_114055_20130529_20170504_01_T1.jpg</td>\n",
       "    </tr>\n",
       "    <tr>\n",
       "      <th>1000185</th>\n",
       "      <td>LC81140552013325LGN01</td>\n",
       "      <td>LC08_L1TP_114055_20131121_20170428_01_T1</td>\n",
       "      <td>2013-11-21</td>\n",
       "      <td>1</td>\n",
       "      <td>https://earthexplorer.usgs.gov/order/process?dataset_name=LANDSAT_8_C1&amp;ordered=LC81140552013325LGN01</td>\n",
       "      <td>https://earthexplorer.usgs.gov/browse/landsat_8/2013/114/055/LC08_L1TP_114055_20131121_20170428_01_T1.jpg</td>\n",
       "    </tr>\n",
       "    <tr>\n",
       "      <th>916758</th>\n",
       "      <td>LC81140552014104LGN01</td>\n",
       "      <td>LC08_L1TP_114055_20140414_20170423_01_T1</td>\n",
       "      <td>2014-04-14</td>\n",
       "      <td>5</td>\n",
       "      <td>https://earthexplorer.usgs.gov/order/process?dataset_name=LANDSAT_8_C1&amp;ordered=LC81140552014104LGN01</td>\n",
       "      <td>https://earthexplorer.usgs.gov/browse/landsat_8/2014/114/055/LC08_L1TP_114055_20140414_20170423_01_T1.jpg</td>\n",
       "    </tr>\n",
       "    <tr>\n",
       "      <th>764111</th>\n",
       "      <td>LC81140552014328LGN01</td>\n",
       "      <td>LC08_L1TP_114055_20141124_20170417_01_T1</td>\n",
       "      <td>2014-11-24</td>\n",
       "      <td>1</td>\n",
       "      <td>https://earthexplorer.usgs.gov/order/process?dataset_name=LANDSAT_8_C1&amp;ordered=LC81140552014328LGN01</td>\n",
       "      <td>https://earthexplorer.usgs.gov/browse/landsat_8/2014/114/055/LC08_L1TP_114055_20141124_20170417_01_T1.jpg</td>\n",
       "    </tr>\n",
       "    <tr>\n",
       "      <th>682767</th>\n",
       "      <td>LC81140552015075LGN01</td>\n",
       "      <td>LC08_L1TP_114055_20150316_20170412_01_T1</td>\n",
       "      <td>2015-03-16</td>\n",
       "      <td>0</td>\n",
       "      <td>https://earthexplorer.usgs.gov/order/process?dataset_name=LANDSAT_8_C1&amp;ordered=LC81140552015075LGN01</td>\n",
       "      <td>https://earthexplorer.usgs.gov/browse/landsat_8/2015/114/055/LC08_L1TP_114055_20150316_20170412_01_T1.jpg</td>\n",
       "    </tr>\n",
       "    <tr>\n",
       "      <th>517377</th>\n",
       "      <td>LC81140552015315LGN01</td>\n",
       "      <td>LC08_L1TP_114055_20151111_20170402_01_T1</td>\n",
       "      <td>2015-11-11</td>\n",
       "      <td>0</td>\n",
       "      <td>https://earthexplorer.usgs.gov/order/process?dataset_name=LANDSAT_8_C1&amp;ordered=LC81140552015315LGN01</td>\n",
       "      <td>https://earthexplorer.usgs.gov/browse/landsat_8/2015/114/055/LC08_L1TP_114055_20151111_20170402_01_T1.jpg</td>\n",
       "    </tr>\n",
       "    <tr>\n",
       "      <th>379289</th>\n",
       "      <td>LC81140552016142LGN01</td>\n",
       "      <td>LC08_L1TP_114055_20160521_20170324_01_T1</td>\n",
       "      <td>2016-05-21</td>\n",
       "      <td>0</td>\n",
       "      <td>https://earthexplorer.usgs.gov/order/process?dataset_name=LANDSAT_8_C1&amp;ordered=LC81140552016142LGN01</td>\n",
       "      <td>https://earthexplorer.usgs.gov/browse/landsat_8/2016/114/055/LC08_L1TP_114055_20160521_20170324_01_T1.jpg</td>\n",
       "    </tr>\n",
       "    <tr>\n",
       "      <th>254206</th>\n",
       "      <td>LC81140552016318LGN01</td>\n",
       "      <td>LC08_L1TP_114055_20161113_20170318_01_T1</td>\n",
       "      <td>2016-11-13</td>\n",
       "      <td>1</td>\n",
       "      <td>https://earthexplorer.usgs.gov/order/process?dataset_name=LANDSAT_8_C1&amp;ordered=LC81140552016318LGN01</td>\n",
       "      <td>https://earthexplorer.usgs.gov/browse/landsat_8/2016/114/055/LC08_L1TP_114055_20161113_20170318_01_T1.jpg</td>\n",
       "    </tr>\n",
       "    <tr>\n",
       "      <th>171204</th>\n",
       "      <td>LC81140552017080LGN00</td>\n",
       "      <td>LC08_L1TP_114055_20170321_20170328_01_T1</td>\n",
       "      <td>2017-03-21</td>\n",
       "      <td>2</td>\n",
       "      <td>https://earthexplorer.usgs.gov/order/process?dataset_name=LANDSAT_8_C1&amp;ordered=LC81140552017080LGN00</td>\n",
       "      <td>https://earthexplorer.usgs.gov/browse/landsat_8/2017/114/055/LC08_L1TP_114055_20170321_20170328_01_T1.jpg</td>\n",
       "    </tr>\n",
       "    <tr>\n",
       "      <th>16483</th>\n",
       "      <td>LC81140552017304LGN00</td>\n",
       "      <td>LC08_L1TP_114055_20171031_20171109_01_T1</td>\n",
       "      <td>2017-10-31</td>\n",
       "      <td>2</td>\n",
       "      <td>https://earthexplorer.usgs.gov/order/process?dataset_name=LANDSAT_8_C1&amp;ordered=LC81140552017304LGN00</td>\n",
       "      <td>https://earthexplorer.usgs.gov/browse/landsat_8/2017/114/055/LC08_L1TP_114055_20171031_20171109_01_T1.jpg</td>\n",
       "    </tr>\n",
       "  </tbody>\n",
       "</table>\n",
       "</div>"
      ],
      "text/plain": [
       "                       sceneID                        LANDSAT_PRODUCT_ID  \\\n",
       "1093134  LC81140552013149LGN01  LC08_L1TP_114055_20130529_20170504_01_T1   \n",
       "1000185  LC81140552013325LGN01  LC08_L1TP_114055_20131121_20170428_01_T1   \n",
       "916758   LC81140552014104LGN01  LC08_L1TP_114055_20140414_20170423_01_T1   \n",
       "764111   LC81140552014328LGN01  LC08_L1TP_114055_20141124_20170417_01_T1   \n",
       "682767   LC81140552015075LGN01  LC08_L1TP_114055_20150316_20170412_01_T1   \n",
       "517377   LC81140552015315LGN01  LC08_L1TP_114055_20151111_20170402_01_T1   \n",
       "379289   LC81140552016142LGN01  LC08_L1TP_114055_20160521_20170324_01_T1   \n",
       "254206   LC81140552016318LGN01  LC08_L1TP_114055_20161113_20170318_01_T1   \n",
       "171204   LC81140552017080LGN00  LC08_L1TP_114055_20170321_20170328_01_T1   \n",
       "16483    LC81140552017304LGN00  LC08_L1TP_114055_20171031_20171109_01_T1   \n",
       "\n",
       "        acquisitionDate  cloudCover  \\\n",
       "1093134 2013-05-29       2            \n",
       "1000185 2013-11-21       1            \n",
       "916758  2014-04-14       5            \n",
       "764111  2014-11-24       1            \n",
       "682767  2015-03-16       0            \n",
       "517377  2015-11-11       0            \n",
       "379289  2016-05-21       0            \n",
       "254206  2016-11-13       1            \n",
       "171204  2017-03-21       2            \n",
       "16483   2017-10-31       2            \n",
       "\n",
       "                                                                                                      cartURL  \\\n",
       "1093134  https://earthexplorer.usgs.gov/order/process?dataset_name=LANDSAT_8_C1&ordered=LC81140552013149LGN01   \n",
       "1000185  https://earthexplorer.usgs.gov/order/process?dataset_name=LANDSAT_8_C1&ordered=LC81140552013325LGN01   \n",
       "916758   https://earthexplorer.usgs.gov/order/process?dataset_name=LANDSAT_8_C1&ordered=LC81140552014104LGN01   \n",
       "764111   https://earthexplorer.usgs.gov/order/process?dataset_name=LANDSAT_8_C1&ordered=LC81140552014328LGN01   \n",
       "682767   https://earthexplorer.usgs.gov/order/process?dataset_name=LANDSAT_8_C1&ordered=LC81140552015075LGN01   \n",
       "517377   https://earthexplorer.usgs.gov/order/process?dataset_name=LANDSAT_8_C1&ordered=LC81140552015315LGN01   \n",
       "379289   https://earthexplorer.usgs.gov/order/process?dataset_name=LANDSAT_8_C1&ordered=LC81140552016142LGN01   \n",
       "254206   https://earthexplorer.usgs.gov/order/process?dataset_name=LANDSAT_8_C1&ordered=LC81140552016318LGN01   \n",
       "171204   https://earthexplorer.usgs.gov/order/process?dataset_name=LANDSAT_8_C1&ordered=LC81140552017080LGN00   \n",
       "16483    https://earthexplorer.usgs.gov/order/process?dataset_name=LANDSAT_8_C1&ordered=LC81140552017304LGN00   \n",
       "\n",
       "                                                                                                         browseURL  \n",
       "1093134  https://earthexplorer.usgs.gov/browse/landsat_8/2013/114/055/LC08_L1TP_114055_20130529_20170504_01_T1.jpg  \n",
       "1000185  https://earthexplorer.usgs.gov/browse/landsat_8/2013/114/055/LC08_L1TP_114055_20131121_20170428_01_T1.jpg  \n",
       "916758   https://earthexplorer.usgs.gov/browse/landsat_8/2014/114/055/LC08_L1TP_114055_20140414_20170423_01_T1.jpg  \n",
       "764111   https://earthexplorer.usgs.gov/browse/landsat_8/2014/114/055/LC08_L1TP_114055_20141124_20170417_01_T1.jpg  \n",
       "682767   https://earthexplorer.usgs.gov/browse/landsat_8/2015/114/055/LC08_L1TP_114055_20150316_20170412_01_T1.jpg  \n",
       "517377   https://earthexplorer.usgs.gov/browse/landsat_8/2015/114/055/LC08_L1TP_114055_20151111_20170402_01_T1.jpg  \n",
       "379289   https://earthexplorer.usgs.gov/browse/landsat_8/2016/114/055/LC08_L1TP_114055_20160521_20170324_01_T1.jpg  \n",
       "254206   https://earthexplorer.usgs.gov/browse/landsat_8/2016/114/055/LC08_L1TP_114055_20161113_20170318_01_T1.jpg  \n",
       "171204   https://earthexplorer.usgs.gov/browse/landsat_8/2017/114/055/LC08_L1TP_114055_20170321_20170328_01_T1.jpg  \n",
       "16483    https://earthexplorer.usgs.gov/browse/landsat_8/2017/114/055/LC08_L1TP_114055_20171031_20171109_01_T1.jpg  "
      ]
     },
     "execution_count": 13,
     "metadata": {},
     "output_type": "execute_result"
    }
   ],
   "source": [
    "download_df = pandas.concat(download_list, axis=0, ignore_index=False)\n",
    "download_df"
   ]
  },
  {
   "cell_type": "code",
   "execution_count": 14,
   "metadata": {},
   "outputs": [
    {
     "data": {
      "text/plain": [
       "10"
      ]
     },
     "execution_count": 14,
     "metadata": {},
     "output_type": "execute_result"
    }
   ],
   "source": [
    "download_df.shape[0]"
   ]
  },
  {
   "cell_type": "markdown",
   "metadata": {},
   "source": [
    "Save download candidates into CSV"
   ]
  },
  {
   "cell_type": "code",
   "execution_count": 15,
   "metadata": {
    "collapsed": true
   },
   "outputs": [],
   "source": [
    "download_df.to_csv(\"for-download.csv\")"
   ]
  },
  {
   "cell_type": "markdown",
   "metadata": {},
   "source": [
    "## VII. Create an Order URL Containing All Scenes\n",
    "\n",
    "We can then follow this link and download the dataset from USGS."
   ]
  },
  {
   "cell_type": "code",
   "execution_count": 16,
   "metadata": {},
   "outputs": [
    {
     "name": "stdout",
     "output_type": "stream",
     "text": [
      "https://earthexplorer.usgs.gov/order/process?dataset_name=LANDSAT_8_C1&ordered=LC81140552013149LGN01,LC81140552013325LGN01,LC81140552014104LGN01,LC81140552014328LGN01,LC81140552015075LGN01,LC81140552015315LGN01,LC81140552016142LGN01,LC81140552016318LGN01,LC81140552017080LGN00,LC81140552017304LGN00\n"
     ]
    }
   ],
   "source": [
    "order_url = \"https://earthexplorer.usgs.gov/order/process?dataset_name=LANDSAT_8_C1&ordered={}\".format(\n",
    "    \",\".join(download_df['sceneID'].values))\n",
    "\n",
    "print(order_url)"
   ]
  }
 ],
 "metadata": {
  "kernelspec": {
   "display_name": "Python 3",
   "language": "python",
   "name": "python3"
  },
  "language_info": {
   "codemirror_mode": {
    "name": "ipython",
    "version": 3
   },
   "file_extension": ".py",
   "mimetype": "text/x-python",
   "name": "python",
   "nbconvert_exporter": "python",
   "pygments_lexer": "ipython3",
   "version": "3.6.3"
  }
 },
 "nbformat": 4,
 "nbformat_minor": 2
}
